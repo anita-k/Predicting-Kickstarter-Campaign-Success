{
 "cells": [
  {
   "cell_type": "code",
   "execution_count": 1,
   "metadata": {},
   "outputs": [],
   "source": [
    "%matplotlib inline"
   ]
  },
  {
   "cell_type": "code",
   "execution_count": 2,
   "metadata": {},
   "outputs": [],
   "source": [
    "import numpy as np\n",
    "import pandas as pd\n",
    "import matplotlib.pyplot as plt"
   ]
  },
  {
   "cell_type": "code",
   "execution_count": 3,
   "metadata": {},
   "outputs": [],
   "source": [
    "from datetime import datetime,date\n",
    "import seaborn as sns\n",
    "import pickle\n",
    "import math\n",
    "\n",
    "from sklearn.linear_model import LogisticRegression\n",
    "from sklearn.preprocessing import MinMaxScaler\n",
    "from sklearn.preprocessing import minmax_scale\n",
    "from scipy import stats\n",
    "from sklearn import preprocessing\n",
    "from sklearn.model_selection import train_test_split\n",
    "from sklearn.metrics import accuracy_score\n",
    "from sklearn.model_selection import GridSearchCV\n",
    "from sklearn.metrics import f1_score\n",
    "from sklearn.metrics import classification_report\n",
    "from sklearn.metrics import confusion_matrix\n",
    "from sklearn import metrics\n",
    "from sklearn.model_selection import StratifiedKFold, cross_val_score\n",
    "from sklearn.model_selection import KFold\n",
    "from sklearn import neighbors\n",
    "from sklearn.metrics import roc_auc_score\n",
    "from sklearn.metrics import roc_curve\n",
    "from sklearn.metrics import auc\n",
    "from scipy.stats import ttest_ind\n",
    "import researchpy as rp\n",
    "from sklearn.preprocessing import PolynomialFeatures\n",
    "from sklearn.tree import DecisionTreeClassifier\n",
    "from sklearn.ensemble import RandomForestClassifier\n",
    "\n",
    "import warnings"
   ]
  },
  {
   "cell_type": "markdown",
   "metadata": {},
   "source": [
    "# Predicting Kickstarter Campaign Success\n",
    "### An exploration of campaign data from the largest crowdfunding platform\n",
    "\n",
    "### By Anita K."
   ]
  },
  {
   "cell_type": "markdown",
   "metadata": {},
   "source": [
    "### Abstract\n",
    "\n",
    "The purpose of this research is to examine a crowdfunding dataset and gain insight into the factors contributing to the success of kickstart campaigns. The project focus lies on creating a prediction algorithm based on key kickstarter features by applying several of the most common machine learning models. It is suited for beginner to intermediate readers/developers, and as such does not claim to be entirely exhaustive, but rather aims to lay out the fundamental methodology of handling such a task. In addition, the research approach includes testing a hypothesis about the relationship between the desired goal amount of each campaign and its success probability.<br>"
   ]
  },
  {
   "cell_type": "markdown",
   "metadata": {},
   "source": [
    "### Introduction and Data Acquisition\n",
    "Kickstarter is a funding platform with a mission to help bring creative projects to life. It supports everything from films, games and music to art, design, and technology. The platform applies an all-or-nothing approach which means that no one will be charged for a pledge towards a project unless it reaches its funding goal. Since its launch in 2009, 17 million people have backed a project, USD 4.7 billion has been pledged, and 173 676 projects have been successfully funded.<br>\n",
    "That is why it would be a challenging task to analyze that data and use it to build a machine learning classifier predicting whether Kickstarter campaigns would be successful.\n",
    "\n",
    "**The dataset being used in the project can be downloaded [here](https://drive.google.com/drive/folders/1BvJ4Vt6xpgQmAVTBOwSxuQQY7DT5KCGi?usp=sharing)**. Originally, the data has been obtained by a web scraping service which archives Kickstarter campaign data.<br>\n",
    "\n",
    "Comments are provided alongside or within the code implementaton, and computationally slow cells have been serialized through pickle for re-running the notebook more easily if needed.<br>\n",
    "#### Please note that due to excessive size, the Random Forest pickle files have been uploaded externally and can be found [here](https://drive.google.com/file/d/1gnIlt_Dhw-TsU4rt_i9MOIaN6-2u4iXZ/view?usp=sharing)."
   ]
  },
  {
   "cell_type": "markdown",
   "metadata": {},
   "source": [
    "### Framing the Problem\n",
    "The main goal that this research will try to achieve is to build several machine learning models predicting kickstarter success, and to evaluate and compare their performance.<br>\n",
    "Besides modeling, we will test a hypothesis to see if campaign success is correlated with specific campaign goal amounts or not. For that purpose, we will assume a p-value threshold of 0.01 (which means that there is a 1% chance the observed results are coincidental).<br>\n",
    "\n",
    "#### Previous Research\n",
    "Multiple high-level research publications and implementations can be found online. The dataset versions being used vary widely both in terms of time period, number and types of features, but there is a dominant common trait of struggle to get the accuracy score as close to 70% as possible. To that end, most researchers resort to the widest possible array of machine learning algorithms and libraries."
   ]
  },
  {
   "cell_type": "markdown",
   "metadata": {},
   "source": [
    "### Data Tidying and Cleaning\n",
    "\n",
    "To begin with, we will inspect our data to determine what extent of cleaning and tidying is necessary."
   ]
  },
  {
   "cell_type": "code",
   "execution_count": 4,
   "metadata": {},
   "outputs": [
    {
     "data": {
      "text/html": [
       "<div>\n",
       "<style scoped>\n",
       "    .dataframe tbody tr th:only-of-type {\n",
       "        vertical-align: middle;\n",
       "    }\n",
       "\n",
       "    .dataframe tbody tr th {\n",
       "        vertical-align: top;\n",
       "    }\n",
       "\n",
       "    .dataframe thead th {\n",
       "        text-align: right;\n",
       "    }\n",
       "</style>\n",
       "<table border=\"1\" class=\"dataframe\">\n",
       "  <thead>\n",
       "    <tr style=\"text-align: right;\">\n",
       "      <th></th>\n",
       "      <th>ID</th>\n",
       "      <th>name</th>\n",
       "      <th>category</th>\n",
       "      <th>main_category</th>\n",
       "      <th>currency</th>\n",
       "      <th>deadline</th>\n",
       "      <th>goal</th>\n",
       "      <th>launched</th>\n",
       "      <th>pledged</th>\n",
       "      <th>state</th>\n",
       "      <th>backers</th>\n",
       "      <th>country</th>\n",
       "      <th>usd pledged</th>\n",
       "      <th>usd_pledged_real</th>\n",
       "      <th>usd_goal_real</th>\n",
       "    </tr>\n",
       "  </thead>\n",
       "  <tbody>\n",
       "    <tr>\n",
       "      <th>0</th>\n",
       "      <td>1000002330</td>\n",
       "      <td>The Songs of Adelaide &amp; Abullah</td>\n",
       "      <td>Poetry</td>\n",
       "      <td>Publishing</td>\n",
       "      <td>GBP</td>\n",
       "      <td>2015-10-09</td>\n",
       "      <td>1000.0</td>\n",
       "      <td>2015-08-11 12:12:28</td>\n",
       "      <td>0.0</td>\n",
       "      <td>failed</td>\n",
       "      <td>0</td>\n",
       "      <td>GB</td>\n",
       "      <td>0.0</td>\n",
       "      <td>0.0</td>\n",
       "      <td>1533.95</td>\n",
       "    </tr>\n",
       "    <tr>\n",
       "      <th>1</th>\n",
       "      <td>1000003930</td>\n",
       "      <td>Greeting From Earth: ZGAC Arts Capsule For ET</td>\n",
       "      <td>Narrative Film</td>\n",
       "      <td>Film &amp; Video</td>\n",
       "      <td>USD</td>\n",
       "      <td>2017-11-01</td>\n",
       "      <td>30000.0</td>\n",
       "      <td>2017-09-02 04:43:57</td>\n",
       "      <td>2421.0</td>\n",
       "      <td>failed</td>\n",
       "      <td>15</td>\n",
       "      <td>US</td>\n",
       "      <td>100.0</td>\n",
       "      <td>2421.0</td>\n",
       "      <td>30000.00</td>\n",
       "    </tr>\n",
       "    <tr>\n",
       "      <th>2</th>\n",
       "      <td>1000004038</td>\n",
       "      <td>Where is Hank?</td>\n",
       "      <td>Narrative Film</td>\n",
       "      <td>Film &amp; Video</td>\n",
       "      <td>USD</td>\n",
       "      <td>2013-02-26</td>\n",
       "      <td>45000.0</td>\n",
       "      <td>2013-01-12 00:20:50</td>\n",
       "      <td>220.0</td>\n",
       "      <td>failed</td>\n",
       "      <td>3</td>\n",
       "      <td>US</td>\n",
       "      <td>220.0</td>\n",
       "      <td>220.0</td>\n",
       "      <td>45000.00</td>\n",
       "    </tr>\n",
       "    <tr>\n",
       "      <th>3</th>\n",
       "      <td>1000007540</td>\n",
       "      <td>ToshiCapital Rekordz Needs Help to Complete Album</td>\n",
       "      <td>Music</td>\n",
       "      <td>Music</td>\n",
       "      <td>USD</td>\n",
       "      <td>2012-04-16</td>\n",
       "      <td>5000.0</td>\n",
       "      <td>2012-03-17 03:24:11</td>\n",
       "      <td>1.0</td>\n",
       "      <td>failed</td>\n",
       "      <td>1</td>\n",
       "      <td>US</td>\n",
       "      <td>1.0</td>\n",
       "      <td>1.0</td>\n",
       "      <td>5000.00</td>\n",
       "    </tr>\n",
       "    <tr>\n",
       "      <th>4</th>\n",
       "      <td>1000011046</td>\n",
       "      <td>Community Film Project: The Art of Neighborhoo...</td>\n",
       "      <td>Film &amp; Video</td>\n",
       "      <td>Film &amp; Video</td>\n",
       "      <td>USD</td>\n",
       "      <td>2015-08-29</td>\n",
       "      <td>19500.0</td>\n",
       "      <td>2015-07-04 08:35:03</td>\n",
       "      <td>1283.0</td>\n",
       "      <td>canceled</td>\n",
       "      <td>14</td>\n",
       "      <td>US</td>\n",
       "      <td>1283.0</td>\n",
       "      <td>1283.0</td>\n",
       "      <td>19500.00</td>\n",
       "    </tr>\n",
       "  </tbody>\n",
       "</table>\n",
       "</div>"
      ],
      "text/plain": [
       "           ID                                               name  \\\n",
       "0  1000002330                    The Songs of Adelaide & Abullah   \n",
       "1  1000003930      Greeting From Earth: ZGAC Arts Capsule For ET   \n",
       "2  1000004038                                     Where is Hank?   \n",
       "3  1000007540  ToshiCapital Rekordz Needs Help to Complete Album   \n",
       "4  1000011046  Community Film Project: The Art of Neighborhoo...   \n",
       "\n",
       "         category main_category currency    deadline     goal  \\\n",
       "0          Poetry    Publishing      GBP  2015-10-09   1000.0   \n",
       "1  Narrative Film  Film & Video      USD  2017-11-01  30000.0   \n",
       "2  Narrative Film  Film & Video      USD  2013-02-26  45000.0   \n",
       "3           Music         Music      USD  2012-04-16   5000.0   \n",
       "4    Film & Video  Film & Video      USD  2015-08-29  19500.0   \n",
       "\n",
       "              launched  pledged     state  backers country  usd pledged  \\\n",
       "0  2015-08-11 12:12:28      0.0    failed        0      GB          0.0   \n",
       "1  2017-09-02 04:43:57   2421.0    failed       15      US        100.0   \n",
       "2  2013-01-12 00:20:50    220.0    failed        3      US        220.0   \n",
       "3  2012-03-17 03:24:11      1.0    failed        1      US          1.0   \n",
       "4  2015-07-04 08:35:03   1283.0  canceled       14      US       1283.0   \n",
       "\n",
       "   usd_pledged_real  usd_goal_real  \n",
       "0               0.0        1533.95  \n",
       "1            2421.0       30000.00  \n",
       "2             220.0       45000.00  \n",
       "3               1.0        5000.00  \n",
       "4            1283.0       19500.00  "
      ]
     },
     "execution_count": 4,
     "metadata": {},
     "output_type": "execute_result"
    }
   ],
   "source": [
    "kickstart_data = pd.read_csv(\"data/ks-projects-201801.csv\", sep = \",\")\n",
    "\n",
    "pd.set_option('display.max_columns', 50)\n",
    "\n",
    "kickstart_data.head(5)"
   ]
  },
  {
   "cell_type": "code",
   "execution_count": 5,
   "metadata": {},
   "outputs": [],
   "source": [
    "# Setting the campaign ID as index\n",
    "kickstart_data.set_index(\"ID\", inplace = True)"
   ]
  },
  {
   "cell_type": "code",
   "execution_count": 6,
   "metadata": {},
   "outputs": [
    {
     "data": {
      "text/html": [
       "<div>\n",
       "<style scoped>\n",
       "    .dataframe tbody tr th:only-of-type {\n",
       "        vertical-align: middle;\n",
       "    }\n",
       "\n",
       "    .dataframe tbody tr th {\n",
       "        vertical-align: top;\n",
       "    }\n",
       "\n",
       "    .dataframe thead th {\n",
       "        text-align: right;\n",
       "    }\n",
       "</style>\n",
       "<table border=\"1\" class=\"dataframe\">\n",
       "  <thead>\n",
       "    <tr style=\"text-align: right;\">\n",
       "      <th></th>\n",
       "      <th>name</th>\n",
       "      <th>category</th>\n",
       "      <th>main_category</th>\n",
       "      <th>currency</th>\n",
       "      <th>deadline</th>\n",
       "      <th>goal</th>\n",
       "      <th>launched</th>\n",
       "      <th>pledged</th>\n",
       "      <th>state</th>\n",
       "      <th>backers</th>\n",
       "      <th>country</th>\n",
       "      <th>usd pledged</th>\n",
       "      <th>usd_pledged_real</th>\n",
       "      <th>usd_goal_real</th>\n",
       "    </tr>\n",
       "    <tr>\n",
       "      <th>ID</th>\n",
       "      <th></th>\n",
       "      <th></th>\n",
       "      <th></th>\n",
       "      <th></th>\n",
       "      <th></th>\n",
       "      <th></th>\n",
       "      <th></th>\n",
       "      <th></th>\n",
       "      <th></th>\n",
       "      <th></th>\n",
       "      <th></th>\n",
       "      <th></th>\n",
       "      <th></th>\n",
       "      <th></th>\n",
       "    </tr>\n",
       "  </thead>\n",
       "  <tbody>\n",
       "    <tr>\n",
       "      <th>1000002330</th>\n",
       "      <td>The Songs of Adelaide &amp; Abullah</td>\n",
       "      <td>Poetry</td>\n",
       "      <td>Publishing</td>\n",
       "      <td>GBP</td>\n",
       "      <td>2015-10-09</td>\n",
       "      <td>1000.0</td>\n",
       "      <td>2015-08-11 12:12:28</td>\n",
       "      <td>0.0</td>\n",
       "      <td>failed</td>\n",
       "      <td>0</td>\n",
       "      <td>GB</td>\n",
       "      <td>0.0</td>\n",
       "      <td>0.0</td>\n",
       "      <td>1533.95</td>\n",
       "    </tr>\n",
       "    <tr>\n",
       "      <th>1000003930</th>\n",
       "      <td>Greeting From Earth: ZGAC Arts Capsule For ET</td>\n",
       "      <td>Narrative Film</td>\n",
       "      <td>Film &amp; Video</td>\n",
       "      <td>USD</td>\n",
       "      <td>2017-11-01</td>\n",
       "      <td>30000.0</td>\n",
       "      <td>2017-09-02 04:43:57</td>\n",
       "      <td>2421.0</td>\n",
       "      <td>failed</td>\n",
       "      <td>15</td>\n",
       "      <td>US</td>\n",
       "      <td>100.0</td>\n",
       "      <td>2421.0</td>\n",
       "      <td>30000.00</td>\n",
       "    </tr>\n",
       "    <tr>\n",
       "      <th>1000004038</th>\n",
       "      <td>Where is Hank?</td>\n",
       "      <td>Narrative Film</td>\n",
       "      <td>Film &amp; Video</td>\n",
       "      <td>USD</td>\n",
       "      <td>2013-02-26</td>\n",
       "      <td>45000.0</td>\n",
       "      <td>2013-01-12 00:20:50</td>\n",
       "      <td>220.0</td>\n",
       "      <td>failed</td>\n",
       "      <td>3</td>\n",
       "      <td>US</td>\n",
       "      <td>220.0</td>\n",
       "      <td>220.0</td>\n",
       "      <td>45000.00</td>\n",
       "    </tr>\n",
       "    <tr>\n",
       "      <th>1000007540</th>\n",
       "      <td>ToshiCapital Rekordz Needs Help to Complete Album</td>\n",
       "      <td>Music</td>\n",
       "      <td>Music</td>\n",
       "      <td>USD</td>\n",
       "      <td>2012-04-16</td>\n",
       "      <td>5000.0</td>\n",
       "      <td>2012-03-17 03:24:11</td>\n",
       "      <td>1.0</td>\n",
       "      <td>failed</td>\n",
       "      <td>1</td>\n",
       "      <td>US</td>\n",
       "      <td>1.0</td>\n",
       "      <td>1.0</td>\n",
       "      <td>5000.00</td>\n",
       "    </tr>\n",
       "    <tr>\n",
       "      <th>1000011046</th>\n",
       "      <td>Community Film Project: The Art of Neighborhoo...</td>\n",
       "      <td>Film &amp; Video</td>\n",
       "      <td>Film &amp; Video</td>\n",
       "      <td>USD</td>\n",
       "      <td>2015-08-29</td>\n",
       "      <td>19500.0</td>\n",
       "      <td>2015-07-04 08:35:03</td>\n",
       "      <td>1283.0</td>\n",
       "      <td>canceled</td>\n",
       "      <td>14</td>\n",
       "      <td>US</td>\n",
       "      <td>1283.0</td>\n",
       "      <td>1283.0</td>\n",
       "      <td>19500.00</td>\n",
       "    </tr>\n",
       "  </tbody>\n",
       "</table>\n",
       "</div>"
      ],
      "text/plain": [
       "                                                         name        category  \\\n",
       "ID                                                                              \n",
       "1000002330                    The Songs of Adelaide & Abullah          Poetry   \n",
       "1000003930      Greeting From Earth: ZGAC Arts Capsule For ET  Narrative Film   \n",
       "1000004038                                     Where is Hank?  Narrative Film   \n",
       "1000007540  ToshiCapital Rekordz Needs Help to Complete Album           Music   \n",
       "1000011046  Community Film Project: The Art of Neighborhoo...    Film & Video   \n",
       "\n",
       "           main_category currency    deadline     goal             launched  \\\n",
       "ID                                                                            \n",
       "1000002330    Publishing      GBP  2015-10-09   1000.0  2015-08-11 12:12:28   \n",
       "1000003930  Film & Video      USD  2017-11-01  30000.0  2017-09-02 04:43:57   \n",
       "1000004038  Film & Video      USD  2013-02-26  45000.0  2013-01-12 00:20:50   \n",
       "1000007540         Music      USD  2012-04-16   5000.0  2012-03-17 03:24:11   \n",
       "1000011046  Film & Video      USD  2015-08-29  19500.0  2015-07-04 08:35:03   \n",
       "\n",
       "            pledged     state  backers country  usd pledged  usd_pledged_real  \\\n",
       "ID                                                                              \n",
       "1000002330      0.0    failed        0      GB          0.0               0.0   \n",
       "1000003930   2421.0    failed       15      US        100.0            2421.0   \n",
       "1000004038    220.0    failed        3      US        220.0             220.0   \n",
       "1000007540      1.0    failed        1      US          1.0               1.0   \n",
       "1000011046   1283.0  canceled       14      US       1283.0            1283.0   \n",
       "\n",
       "            usd_goal_real  \n",
       "ID                         \n",
       "1000002330        1533.95  \n",
       "1000003930       30000.00  \n",
       "1000004038       45000.00  \n",
       "1000007540        5000.00  \n",
       "1000011046       19500.00  "
      ]
     },
     "execution_count": 6,
     "metadata": {},
     "output_type": "execute_result"
    }
   ],
   "source": [
    "kickstart_data.head(5)"
   ]
  },
  {
   "cell_type": "code",
   "execution_count": 7,
   "metadata": {},
   "outputs": [
    {
     "data": {
      "text/plain": [
       "(378661, 14)"
      ]
     },
     "execution_count": 7,
     "metadata": {},
     "output_type": "execute_result"
    }
   ],
   "source": [
    "kickstart_data.shape"
   ]
  },
  {
   "cell_type": "code",
   "execution_count": 8,
   "metadata": {},
   "outputs": [
    {
     "name": "stdout",
     "output_type": "stream",
     "text": [
      "The dataset contains information about 378661 kickstarter campaigns.\n"
     ]
    }
   ],
   "source": [
    "print(\"The dataset contains information about\", len(kickstart_data), \"kickstarter campaigns.\")"
   ]
  },
  {
   "cell_type": "code",
   "execution_count": 9,
   "metadata": {},
   "outputs": [
    {
     "data": {
      "text/plain": [
       "Index(['name', 'category', 'main_category', 'currency', 'deadline', 'goal',\n",
       "       'launched', 'pledged', 'state', 'backers', 'country', 'usd pledged',\n",
       "       'usd_pledged_real', 'usd_goal_real'],\n",
       "      dtype='object')"
      ]
     },
     "execution_count": 9,
     "metadata": {},
     "output_type": "execute_result"
    }
   ],
   "source": [
    "kickstart_data.columns"
   ]
  },
  {
   "cell_type": "markdown",
   "metadata": {},
   "source": [
    "*Removing an extra space from a column name:*"
   ]
  },
  {
   "cell_type": "code",
   "execution_count": 10,
   "metadata": {},
   "outputs": [
    {
     "data": {
      "text/html": [
       "<div>\n",
       "<style scoped>\n",
       "    .dataframe tbody tr th:only-of-type {\n",
       "        vertical-align: middle;\n",
       "    }\n",
       "\n",
       "    .dataframe tbody tr th {\n",
       "        vertical-align: top;\n",
       "    }\n",
       "\n",
       "    .dataframe thead th {\n",
       "        text-align: right;\n",
       "    }\n",
       "</style>\n",
       "<table border=\"1\" class=\"dataframe\">\n",
       "  <thead>\n",
       "    <tr style=\"text-align: right;\">\n",
       "      <th></th>\n",
       "      <th>name</th>\n",
       "      <th>category</th>\n",
       "      <th>main_category</th>\n",
       "      <th>currency</th>\n",
       "      <th>deadline</th>\n",
       "      <th>goal</th>\n",
       "      <th>launched</th>\n",
       "      <th>pledged</th>\n",
       "      <th>state</th>\n",
       "      <th>backers</th>\n",
       "      <th>country</th>\n",
       "      <th>usd_pledged</th>\n",
       "      <th>usd_pledged_real</th>\n",
       "      <th>usd_goal_real</th>\n",
       "    </tr>\n",
       "    <tr>\n",
       "      <th>ID</th>\n",
       "      <th></th>\n",
       "      <th></th>\n",
       "      <th></th>\n",
       "      <th></th>\n",
       "      <th></th>\n",
       "      <th></th>\n",
       "      <th></th>\n",
       "      <th></th>\n",
       "      <th></th>\n",
       "      <th></th>\n",
       "      <th></th>\n",
       "      <th></th>\n",
       "      <th></th>\n",
       "      <th></th>\n",
       "    </tr>\n",
       "  </thead>\n",
       "  <tbody>\n",
       "    <tr>\n",
       "      <th>1000002330</th>\n",
       "      <td>The Songs of Adelaide &amp; Abullah</td>\n",
       "      <td>Poetry</td>\n",
       "      <td>Publishing</td>\n",
       "      <td>GBP</td>\n",
       "      <td>2015-10-09</td>\n",
       "      <td>1000.0</td>\n",
       "      <td>2015-08-11 12:12:28</td>\n",
       "      <td>0.0</td>\n",
       "      <td>failed</td>\n",
       "      <td>0</td>\n",
       "      <td>GB</td>\n",
       "      <td>0.0</td>\n",
       "      <td>0.0</td>\n",
       "      <td>1533.95</td>\n",
       "    </tr>\n",
       "  </tbody>\n",
       "</table>\n",
       "</div>"
      ],
      "text/plain": [
       "                                       name category main_category currency  \\\n",
       "ID                                                                            \n",
       "1000002330  The Songs of Adelaide & Abullah   Poetry    Publishing      GBP   \n",
       "\n",
       "              deadline    goal             launched  pledged   state  backers  \\\n",
       "ID                                                                              \n",
       "1000002330  2015-10-09  1000.0  2015-08-11 12:12:28      0.0  failed        0   \n",
       "\n",
       "           country  usd_pledged  usd_pledged_real  usd_goal_real  \n",
       "ID                                                                \n",
       "1000002330      GB          0.0               0.0        1533.95  "
      ]
     },
     "execution_count": 10,
     "metadata": {},
     "output_type": "execute_result"
    }
   ],
   "source": [
    "kickstart_data.rename(columns = {\"usd pledged\": \"usd_pledged\"}, inplace = True)\n",
    "kickstart_data.head(1)"
   ]
  },
  {
   "cell_type": "code",
   "execution_count": 11,
   "metadata": {},
   "outputs": [
    {
     "name": "stdout",
     "output_type": "stream",
     "text": [
      "<class 'pandas.core.frame.DataFrame'>\n",
      "Int64Index: 378661 entries, 1000002330 to 999988282\n",
      "Data columns (total 14 columns):\n",
      "name                378657 non-null object\n",
      "category            378661 non-null object\n",
      "main_category       378661 non-null object\n",
      "currency            378661 non-null object\n",
      "deadline            378661 non-null object\n",
      "goal                378661 non-null float64\n",
      "launched            378661 non-null object\n",
      "pledged             378661 non-null float64\n",
      "state               378661 non-null object\n",
      "backers             378661 non-null int64\n",
      "country             378661 non-null object\n",
      "usd_pledged         374864 non-null float64\n",
      "usd_pledged_real    378661 non-null float64\n",
      "usd_goal_real       378661 non-null float64\n",
      "dtypes: float64(5), int64(1), object(8)\n",
      "memory usage: 43.3+ MB\n"
     ]
    }
   ],
   "source": [
    "kickstart_data.info()"
   ]
  },
  {
   "cell_type": "markdown",
   "metadata": {},
   "source": [
    "*It would be best to convert all dates to a standard format (datetime):*"
   ]
  },
  {
   "cell_type": "code",
   "execution_count": 12,
   "metadata": {},
   "outputs": [
    {
     "name": "stdout",
     "output_type": "stream",
     "text": [
      "<class 'pandas.core.frame.DataFrame'>\n",
      "Int64Index: 378661 entries, 1000002330 to 999988282\n",
      "Data columns (total 14 columns):\n",
      "name                378657 non-null object\n",
      "category            378661 non-null object\n",
      "main_category       378661 non-null object\n",
      "currency            378661 non-null object\n",
      "deadline            378661 non-null datetime64[ns]\n",
      "goal                378661 non-null float64\n",
      "launched            378661 non-null datetime64[ns]\n",
      "pledged             378661 non-null float64\n",
      "state               378661 non-null object\n",
      "backers             378661 non-null int64\n",
      "country             378661 non-null object\n",
      "usd_pledged         374864 non-null float64\n",
      "usd_pledged_real    378661 non-null float64\n",
      "usd_goal_real       378661 non-null float64\n",
      "dtypes: datetime64[ns](2), float64(5), int64(1), object(6)\n",
      "memory usage: 43.3+ MB\n"
     ]
    }
   ],
   "source": [
    "# Convert the date columns to datetime format\n",
    "\n",
    "kickstart_data[\"launched\"] = pd.to_datetime(kickstart_data[\"launched\"])\n",
    "kickstart_data[\"deadline\"] = pd.to_datetime(kickstart_data[\"deadline\"])\n",
    "kickstart_data.info()"
   ]
  },
  {
   "cell_type": "code",
   "execution_count": 13,
   "metadata": {},
   "outputs": [
    {
     "data": {
      "text/plain": [
       "name                 True\n",
       "category            False\n",
       "main_category       False\n",
       "currency            False\n",
       "deadline            False\n",
       "goal                False\n",
       "launched            False\n",
       "pledged             False\n",
       "state               False\n",
       "backers             False\n",
       "country             False\n",
       "usd_pledged          True\n",
       "usd_pledged_real    False\n",
       "usd_goal_real       False\n",
       "dtype: bool"
      ]
     },
     "metadata": {},
     "output_type": "display_data"
    }
   ],
   "source": [
    "# Check for null values:\n",
    "display(kickstart_data.isnull().any())"
   ]
  },
  {
   "cell_type": "code",
   "execution_count": 14,
   "metadata": {},
   "outputs": [
    {
     "data": {
      "text/plain": [
       "name                   4\n",
       "category               0\n",
       "main_category          0\n",
       "currency               0\n",
       "deadline               0\n",
       "goal                   0\n",
       "launched               0\n",
       "pledged                0\n",
       "state                  0\n",
       "backers                0\n",
       "country                0\n",
       "usd_pledged         3797\n",
       "usd_pledged_real       0\n",
       "usd_goal_real          0\n",
       "dtype: int64"
      ]
     },
     "execution_count": 14,
     "metadata": {},
     "output_type": "execute_result"
    }
   ],
   "source": [
    "# kickstart_data.isnull().sum() / len(kickstart_data) * 100\n",
    "kickstart_data.isnull().sum()"
   ]
  },
  {
   "cell_type": "markdown",
   "metadata": {},
   "source": [
    "### Feature Selection and Feature Engineering"
   ]
  },
  {
   "cell_type": "markdown",
   "metadata": {},
   "source": [
    "On the topic of data tidying, feature selection and engineering, we will replace all \"suspended\" and \"canceled\" campaign statuses with \"failed\", as it essentially amounts to the same thing. We will drop all \"undefined\" projects altogether as they would not contribute to the prediction algorithms. Finally, we will drop the \"live\" projects as well as their status is still pending.<br>\n",
    "Having observed that our date columns have slightly different formats (the \"launched\" column includes the hour, whereas the \"deadline\" column does not), we will first normalize that and then create a new \"duration\" column using the other two.<br>\n",
    "Noticing some unexpected dates in the \"launch\" column (01-01-1970), we will drop those rows suspecting them to be errors filled in by default values."
   ]
  },
  {
   "cell_type": "code",
   "execution_count": 15,
   "metadata": {},
   "outputs": [],
   "source": [
    "kickstart_data[\"state\"].replace({\"suspended\": \"failed\"}, inplace = True)"
   ]
  },
  {
   "cell_type": "code",
   "execution_count": 16,
   "metadata": {},
   "outputs": [],
   "source": [
    "kickstart_data[\"state\"].replace({\"canceled\": \"failed\"}, inplace = True)"
   ]
  },
  {
   "cell_type": "code",
   "execution_count": 17,
   "metadata": {},
   "outputs": [],
   "source": [
    "kickstart_data.drop(kickstart_data[kickstart_data.state == \"live\"].index, inplace=True)"
   ]
  },
  {
   "cell_type": "code",
   "execution_count": 18,
   "metadata": {},
   "outputs": [],
   "source": [
    "kickstart_data.drop(kickstart_data[kickstart_data.state == \"undefined\"].index, inplace=True)"
   ]
  },
  {
   "cell_type": "code",
   "execution_count": 19,
   "metadata": {},
   "outputs": [],
   "source": [
    "kickstart_data.drop(kickstart_data[kickstart_data.name.isnull()].index, inplace=True)"
   ]
  },
  {
   "cell_type": "code",
   "execution_count": 20,
   "metadata": {},
   "outputs": [],
   "source": [
    "# kickstart_data[kickstart_data.name.isnull()]"
   ]
  },
  {
   "cell_type": "code",
   "execution_count": 21,
   "metadata": {},
   "outputs": [],
   "source": [
    "kickstart_data[\"launched\"] = pd.to_datetime(kickstart_data[\"launched\"]).dt.normalize()"
   ]
  },
  {
   "cell_type": "code",
   "execution_count": 22,
   "metadata": {},
   "outputs": [
    {
     "data": {
      "text/plain": [
       "ID\n",
       "1000002330   2015-08-11\n",
       "1000003930   2017-09-02\n",
       "1000004038   2013-01-12\n",
       "1000007540   2012-03-17\n",
       "1000011046   2015-07-04\n",
       "Name: launched, dtype: datetime64[ns]"
      ]
     },
     "execution_count": 22,
     "metadata": {},
     "output_type": "execute_result"
    }
   ],
   "source": [
    "kickstart_data[\"launched\"].head(5)"
   ]
  },
  {
   "cell_type": "code",
   "execution_count": 23,
   "metadata": {},
   "outputs": [],
   "source": [
    "# Creating a new column with campaign duration data\n",
    "\n",
    "kickstart_data[\"duration\"] = (kickstart_data.deadline - kickstart_data.launched).astype(\"timedelta64[D]\")"
   ]
  },
  {
   "cell_type": "code",
   "execution_count": 24,
   "metadata": {},
   "outputs": [
    {
     "data": {
      "text/plain": [
       "ID\n",
       "1000002330    59.0\n",
       "1000003930    60.0\n",
       "1000004038    45.0\n",
       "1000007540    30.0\n",
       "1000011046    56.0\n",
       "Name: duration, dtype: float64"
      ]
     },
     "execution_count": 24,
     "metadata": {},
     "output_type": "execute_result"
    }
   ],
   "source": [
    "kickstart_data[\"duration\"].head(5)"
   ]
  },
  {
   "cell_type": "code",
   "execution_count": 25,
   "metadata": {},
   "outputs": [],
   "source": [
    "# kickstart_data[\"duration\"].value_counts()"
   ]
  },
  {
   "cell_type": "code",
   "execution_count": 26,
   "metadata": {},
   "outputs": [
    {
     "data": {
      "text/html": [
       "<div>\n",
       "<style scoped>\n",
       "    .dataframe tbody tr th:only-of-type {\n",
       "        vertical-align: middle;\n",
       "    }\n",
       "\n",
       "    .dataframe tbody tr th {\n",
       "        vertical-align: top;\n",
       "    }\n",
       "\n",
       "    .dataframe thead th {\n",
       "        text-align: right;\n",
       "    }\n",
       "</style>\n",
       "<table border=\"1\" class=\"dataframe\">\n",
       "  <thead>\n",
       "    <tr style=\"text-align: right;\">\n",
       "      <th></th>\n",
       "      <th>name</th>\n",
       "      <th>category</th>\n",
       "      <th>main_category</th>\n",
       "      <th>currency</th>\n",
       "      <th>deadline</th>\n",
       "      <th>goal</th>\n",
       "      <th>launched</th>\n",
       "      <th>pledged</th>\n",
       "      <th>state</th>\n",
       "      <th>backers</th>\n",
       "      <th>country</th>\n",
       "      <th>usd_pledged</th>\n",
       "      <th>usd_pledged_real</th>\n",
       "      <th>usd_goal_real</th>\n",
       "      <th>duration</th>\n",
       "    </tr>\n",
       "    <tr>\n",
       "      <th>ID</th>\n",
       "      <th></th>\n",
       "      <th></th>\n",
       "      <th></th>\n",
       "      <th></th>\n",
       "      <th></th>\n",
       "      <th></th>\n",
       "      <th></th>\n",
       "      <th></th>\n",
       "      <th></th>\n",
       "      <th></th>\n",
       "      <th></th>\n",
       "      <th></th>\n",
       "      <th></th>\n",
       "      <th></th>\n",
       "      <th></th>\n",
       "    </tr>\n",
       "  </thead>\n",
       "  <tbody>\n",
       "    <tr>\n",
       "      <th>1014746686</th>\n",
       "      <td>Salt of the Earth: A Dead Sea Movie (Canceled)</td>\n",
       "      <td>Film &amp; Video</td>\n",
       "      <td>Film &amp; Video</td>\n",
       "      <td>USD</td>\n",
       "      <td>2010-09-15</td>\n",
       "      <td>5000.0</td>\n",
       "      <td>1970-01-01</td>\n",
       "      <td>0.0</td>\n",
       "      <td>failed</td>\n",
       "      <td>0</td>\n",
       "      <td>US</td>\n",
       "      <td>0.0</td>\n",
       "      <td>0.0</td>\n",
       "      <td>5000.00</td>\n",
       "      <td>14867.0</td>\n",
       "    </tr>\n",
       "    <tr>\n",
       "      <th>1245461087</th>\n",
       "      <td>1st Super-Size Painting - Social Network Owned...</td>\n",
       "      <td>Art</td>\n",
       "      <td>Art</td>\n",
       "      <td>USD</td>\n",
       "      <td>2010-08-14</td>\n",
       "      <td>15000.0</td>\n",
       "      <td>1970-01-01</td>\n",
       "      <td>0.0</td>\n",
       "      <td>failed</td>\n",
       "      <td>0</td>\n",
       "      <td>US</td>\n",
       "      <td>0.0</td>\n",
       "      <td>0.0</td>\n",
       "      <td>15000.00</td>\n",
       "      <td>14835.0</td>\n",
       "    </tr>\n",
       "    <tr>\n",
       "      <th>1384087152</th>\n",
       "      <td>\"ICHOR\"  (Canceled)</td>\n",
       "      <td>Film &amp; Video</td>\n",
       "      <td>Film &amp; Video</td>\n",
       "      <td>USD</td>\n",
       "      <td>2010-05-21</td>\n",
       "      <td>700.0</td>\n",
       "      <td>1970-01-01</td>\n",
       "      <td>0.0</td>\n",
       "      <td>failed</td>\n",
       "      <td>0</td>\n",
       "      <td>US</td>\n",
       "      <td>0.0</td>\n",
       "      <td>0.0</td>\n",
       "      <td>700.00</td>\n",
       "      <td>14750.0</td>\n",
       "    </tr>\n",
       "    <tr>\n",
       "      <th>1480763647</th>\n",
       "      <td>Support Solo Theater! Help \"Ungrateful Daughte...</td>\n",
       "      <td>Theater</td>\n",
       "      <td>Theater</td>\n",
       "      <td>USD</td>\n",
       "      <td>2010-06-01</td>\n",
       "      <td>4000.0</td>\n",
       "      <td>1970-01-01</td>\n",
       "      <td>0.0</td>\n",
       "      <td>failed</td>\n",
       "      <td>0</td>\n",
       "      <td>US</td>\n",
       "      <td>0.0</td>\n",
       "      <td>0.0</td>\n",
       "      <td>4000.00</td>\n",
       "      <td>14761.0</td>\n",
       "    </tr>\n",
       "    <tr>\n",
       "      <th>330942060</th>\n",
       "      <td>Help RIZ Make A Charity Album: 8 Songs, 8 Caus...</td>\n",
       "      <td>Music</td>\n",
       "      <td>Music</td>\n",
       "      <td>USD</td>\n",
       "      <td>2010-05-04</td>\n",
       "      <td>10000.0</td>\n",
       "      <td>1970-01-01</td>\n",
       "      <td>0.0</td>\n",
       "      <td>failed</td>\n",
       "      <td>0</td>\n",
       "      <td>US</td>\n",
       "      <td>0.0</td>\n",
       "      <td>0.0</td>\n",
       "      <td>10000.00</td>\n",
       "      <td>14733.0</td>\n",
       "    </tr>\n",
       "    <tr>\n",
       "      <th>462917959</th>\n",
       "      <td>Identity Communications Infographic (Canceled)</td>\n",
       "      <td>Design</td>\n",
       "      <td>Design</td>\n",
       "      <td>USD</td>\n",
       "      <td>2010-04-10</td>\n",
       "      <td>500.0</td>\n",
       "      <td>1970-01-01</td>\n",
       "      <td>0.0</td>\n",
       "      <td>failed</td>\n",
       "      <td>0</td>\n",
       "      <td>US</td>\n",
       "      <td>0.0</td>\n",
       "      <td>0.0</td>\n",
       "      <td>500.00</td>\n",
       "      <td>14709.0</td>\n",
       "    </tr>\n",
       "    <tr>\n",
       "      <th>69489148</th>\n",
       "      <td>Student Auditions Music 2015</td>\n",
       "      <td>Publishing</td>\n",
       "      <td>Publishing</td>\n",
       "      <td>CHF</td>\n",
       "      <td>2015-10-31</td>\n",
       "      <td>1900.0</td>\n",
       "      <td>1970-01-01</td>\n",
       "      <td>0.0</td>\n",
       "      <td>failed</td>\n",
       "      <td>0</td>\n",
       "      <td>CH</td>\n",
       "      <td>0.0</td>\n",
       "      <td>0.0</td>\n",
       "      <td>1905.97</td>\n",
       "      <td>16739.0</td>\n",
       "    </tr>\n",
       "  </tbody>\n",
       "</table>\n",
       "</div>"
      ],
      "text/plain": [
       "                                                         name      category  \\\n",
       "ID                                                                            \n",
       "1014746686     Salt of the Earth: A Dead Sea Movie (Canceled)  Film & Video   \n",
       "1245461087  1st Super-Size Painting - Social Network Owned...           Art   \n",
       "1384087152                                \"ICHOR\"  (Canceled)  Film & Video   \n",
       "1480763647  Support Solo Theater! Help \"Ungrateful Daughte...       Theater   \n",
       "330942060   Help RIZ Make A Charity Album: 8 Songs, 8 Caus...         Music   \n",
       "462917959      Identity Communications Infographic (Canceled)        Design   \n",
       "69489148                         Student Auditions Music 2015    Publishing   \n",
       "\n",
       "           main_category currency   deadline     goal   launched  pledged  \\\n",
       "ID                                                                          \n",
       "1014746686  Film & Video      USD 2010-09-15   5000.0 1970-01-01      0.0   \n",
       "1245461087           Art      USD 2010-08-14  15000.0 1970-01-01      0.0   \n",
       "1384087152  Film & Video      USD 2010-05-21    700.0 1970-01-01      0.0   \n",
       "1480763647       Theater      USD 2010-06-01   4000.0 1970-01-01      0.0   \n",
       "330942060          Music      USD 2010-05-04  10000.0 1970-01-01      0.0   \n",
       "462917959         Design      USD 2010-04-10    500.0 1970-01-01      0.0   \n",
       "69489148      Publishing      CHF 2015-10-31   1900.0 1970-01-01      0.0   \n",
       "\n",
       "             state  backers country  usd_pledged  usd_pledged_real  \\\n",
       "ID                                                                   \n",
       "1014746686  failed        0      US          0.0               0.0   \n",
       "1245461087  failed        0      US          0.0               0.0   \n",
       "1384087152  failed        0      US          0.0               0.0   \n",
       "1480763647  failed        0      US          0.0               0.0   \n",
       "330942060   failed        0      US          0.0               0.0   \n",
       "462917959   failed        0      US          0.0               0.0   \n",
       "69489148    failed        0      CH          0.0               0.0   \n",
       "\n",
       "            usd_goal_real  duration  \n",
       "ID                                   \n",
       "1014746686        5000.00   14867.0  \n",
       "1245461087       15000.00   14835.0  \n",
       "1384087152         700.00   14750.0  \n",
       "1480763647        4000.00   14761.0  \n",
       "330942060        10000.00   14733.0  \n",
       "462917959          500.00   14709.0  \n",
       "69489148          1905.97   16739.0  "
      ]
     },
     "execution_count": 26,
     "metadata": {},
     "output_type": "execute_result"
    }
   ],
   "source": [
    "kickstart_data[kickstart_data[\"launched\"] == \"1970-01-01\"]"
   ]
  },
  {
   "cell_type": "code",
   "execution_count": 27,
   "metadata": {},
   "outputs": [],
   "source": [
    "kickstart_data.drop(kickstart_data[kickstart_data.launched == \"1970-01-01\"].index, inplace=True)"
   ]
  },
  {
   "cell_type": "markdown",
   "metadata": {},
   "source": [
    "**Note:** Project duration is the time chosen by the creator initially for their project, not the amount of time a project takes to reach 100% of its goal. <br>\n",
    "**Also**, the total project duration allowed by Kickstarter was shortened to 60 days in 2011. Before that point, there was a significant number of projects longer than 60 days:"
   ]
  },
  {
   "cell_type": "code",
   "execution_count": 28,
   "metadata": {},
   "outputs": [
    {
     "data": {
      "text/plain": [
       "(38179, 15)"
      ]
     },
     "execution_count": 28,
     "metadata": {},
     "output_type": "execute_result"
    }
   ],
   "source": [
    "kickstart_data[kickstart_data[\"duration\"] >= 60].shape"
   ]
  },
  {
   "cell_type": "code",
   "execution_count": 29,
   "metadata": {},
   "outputs": [],
   "source": [
    "# kickstart_data[kickstart_data[\"duration\"] == 61]\n",
    "kickstart_data[\"duration\"].replace({61: 60}, inplace = True)"
   ]
  },
  {
   "cell_type": "markdown",
   "metadata": {},
   "source": [
    "**In order to make our models more precise**, we will ignore duration data longer than 60 days, because nowadays that is no longer applicable and such predictions will not be useful."
   ]
  },
  {
   "cell_type": "markdown",
   "metadata": {},
   "source": [
    "## Exploring the Data & Plotting Major Variables\n",
    "\n",
    "Now we will proceed to exploratory data analysis and investigating any interesting interrelationships between the variables."
   ]
  },
  {
   "cell_type": "code",
   "execution_count": 30,
   "metadata": {},
   "outputs": [],
   "source": [
    "# Dividing the variables into categorical and constinuous\n",
    "\n",
    "categ_variables = [\"category\", \"main_category\", \"currency\", \"country\"]\n",
    "continuous_variables = [\"goal\", \"pledged\", \"backers\", \"usd_pledged\", \"usd_pledged_real\", \"usd_goal_real\"]"
   ]
  },
  {
   "cell_type": "code",
   "execution_count": 31,
   "metadata": {},
   "outputs": [],
   "source": [
    "# Continuous variable correlation:\n",
    "\n",
    "corr = kickstart_data[continuous_variables].corr()"
   ]
  },
  {
   "cell_type": "code",
   "execution_count": 32,
   "metadata": {},
   "outputs": [
    {
     "data": {
      "text/html": [
       "<div>\n",
       "<style scoped>\n",
       "    .dataframe tbody tr th:only-of-type {\n",
       "        vertical-align: middle;\n",
       "    }\n",
       "\n",
       "    .dataframe tbody tr th {\n",
       "        vertical-align: top;\n",
       "    }\n",
       "\n",
       "    .dataframe thead th {\n",
       "        text-align: right;\n",
       "    }\n",
       "</style>\n",
       "<table border=\"1\" class=\"dataframe\">\n",
       "  <thead>\n",
       "    <tr style=\"text-align: right;\">\n",
       "      <th></th>\n",
       "      <th>goal</th>\n",
       "      <th>pledged</th>\n",
       "      <th>backers</th>\n",
       "      <th>usd_pledged</th>\n",
       "      <th>usd_pledged_real</th>\n",
       "      <th>usd_goal_real</th>\n",
       "    </tr>\n",
       "  </thead>\n",
       "  <tbody>\n",
       "    <tr>\n",
       "      <th>goal</th>\n",
       "      <td>1.000000</td>\n",
       "      <td>0.007311</td>\n",
       "      <td>0.004035</td>\n",
       "      <td>0.005599</td>\n",
       "      <td>0.005145</td>\n",
       "      <td>0.941676</td>\n",
       "    </tr>\n",
       "    <tr>\n",
       "      <th>pledged</th>\n",
       "      <td>0.007311</td>\n",
       "      <td>1.000000</td>\n",
       "      <td>0.717412</td>\n",
       "      <td>0.858153</td>\n",
       "      <td>0.953367</td>\n",
       "      <td>0.005072</td>\n",
       "    </tr>\n",
       "    <tr>\n",
       "      <th>backers</th>\n",
       "      <td>0.004035</td>\n",
       "      <td>0.717412</td>\n",
       "      <td>1.000000</td>\n",
       "      <td>0.697767</td>\n",
       "      <td>0.752478</td>\n",
       "      <td>0.004544</td>\n",
       "    </tr>\n",
       "    <tr>\n",
       "      <th>usd_pledged</th>\n",
       "      <td>0.005599</td>\n",
       "      <td>0.858153</td>\n",
       "      <td>0.697767</td>\n",
       "      <td>1.000000</td>\n",
       "      <td>0.908014</td>\n",
       "      <td>0.006244</td>\n",
       "    </tr>\n",
       "    <tr>\n",
       "      <th>usd_pledged_real</th>\n",
       "      <td>0.005145</td>\n",
       "      <td>0.953367</td>\n",
       "      <td>0.752478</td>\n",
       "      <td>0.908014</td>\n",
       "      <td>1.000000</td>\n",
       "      <td>0.005643</td>\n",
       "    </tr>\n",
       "    <tr>\n",
       "      <th>usd_goal_real</th>\n",
       "      <td>0.941676</td>\n",
       "      <td>0.005072</td>\n",
       "      <td>0.004544</td>\n",
       "      <td>0.006244</td>\n",
       "      <td>0.005643</td>\n",
       "      <td>1.000000</td>\n",
       "    </tr>\n",
       "  </tbody>\n",
       "</table>\n",
       "</div>"
      ],
      "text/plain": [
       "                      goal   pledged   backers  usd_pledged  usd_pledged_real  \\\n",
       "goal              1.000000  0.007311  0.004035     0.005599          0.005145   \n",
       "pledged           0.007311  1.000000  0.717412     0.858153          0.953367   \n",
       "backers           0.004035  0.717412  1.000000     0.697767          0.752478   \n",
       "usd_pledged       0.005599  0.858153  0.697767     1.000000          0.908014   \n",
       "usd_pledged_real  0.005145  0.953367  0.752478     0.908014          1.000000   \n",
       "usd_goal_real     0.941676  0.005072  0.004544     0.006244          0.005643   \n",
       "\n",
       "                  usd_goal_real  \n",
       "goal                   0.941676  \n",
       "pledged                0.005072  \n",
       "backers                0.004544  \n",
       "usd_pledged            0.006244  \n",
       "usd_pledged_real       0.005643  \n",
       "usd_goal_real          1.000000  "
      ]
     },
     "metadata": {},
     "output_type": "display_data"
    },
    {
     "data": {
      "text/plain": [
       "<matplotlib.axes._subplots.AxesSubplot at 0x203e99466d8>"
      ]
     },
     "execution_count": 32,
     "metadata": {},
     "output_type": "execute_result"
    },
    {
     "data": {
      "image/png": "[encoded data removed]",
      "text/plain": [
       "<Figure size 504x360 with 2 Axes>"
      ]
     },
     "metadata": {},
     "output_type": "display_data"
    }
   ],
   "source": [
    "# Display the correlation matrix:\n",
    "display(corr)\n",
    "\n",
    "# Plot the correlation heatmap:\n",
    "sns.set(rc={'figure.figsize':(7,5)})\n",
    "sns.heatmap(corr, xticklabels=corr.columns, yticklabels=corr.columns, cmap='RdBu')"
   ]
  },
  {
   "cell_type": "markdown",
   "metadata": {},
   "source": [
    "*Values in the correlation matrix range from 1 (indicating very strong positve correlation) to -1 (very strong negative correlation), via 0 (no relationship).*"
   ]
  },
  {
   "cell_type": "markdown",
   "metadata": {},
   "source": [
    "### Campaign Status Breakdown"
   ]
  },
  {
   "cell_type": "code",
   "execution_count": 33,
   "metadata": {},
   "outputs": [],
   "source": [
    "# Set plot style colors\n",
    "plt.style.use('ggplot')"
   ]
  },
  {
   "cell_type": "code",
   "execution_count": 34,
   "metadata": {},
   "outputs": [
    {
     "name": "stdout",
     "output_type": "stream",
     "text": [
      "35.98 % of all campaigns were successful.\n"
     ]
    }
   ],
   "source": [
    "category_state = kickstart_data.groupby([\"state\"])\n",
    "success = category_state.get_group(\"successful\")\n",
    "# success.shape\n",
    "success[\"category\"].count()\n",
    "\n",
    "success_percentage = (success[\"category\"].count() / kickstart_data.shape[0]) * 100\n",
    "success_percentage = success_percentage.round(decimals=2)\n",
    "\n",
    "print(str(success_percentage) + \" % of all campaigns were successful.\")"
   ]
  },
  {
   "cell_type": "code",
   "execution_count": 35,
   "metadata": {},
   "outputs": [
    {
     "data": {
      "text/plain": [
       "array(['failed', 'successful'], dtype=object)"
      ]
     },
     "execution_count": 35,
     "metadata": {},
     "output_type": "execute_result"
    }
   ],
   "source": [
    "kickstart_data[\"state\"].unique()"
   ]
  },
  {
   "cell_type": "code",
   "execution_count": 36,
   "metadata": {},
   "outputs": [
    {
     "data": {
      "text/plain": [
       "state\n",
       "failed        238333\n",
       "successful    133956\n",
       "dtype: int64"
      ]
     },
     "execution_count": 36,
     "metadata": {},
     "output_type": "execute_result"
    }
   ],
   "source": [
    "campaign_status = kickstart_data.groupby(\"state\").size()\n",
    "campaign_status.sort_values(ascending = False)"
   ]
  },
  {
   "cell_type": "code",
   "execution_count": 37,
   "metadata": {},
   "outputs": [
    {
     "data": {
      "image/png": "[encoded data removed]",
      "text/plain": [
       "<Figure size 504x360 with 1 Axes>"
      ]
     },
     "metadata": {},
     "output_type": "display_data"
    }
   ],
   "source": [
    "# labels = [\"Failed\", \"Successful\", \"Canceled\", \"Undefined\", \"Live\", \"Suspended\"]\n",
    "labels = campaign_status.sort_values(ascending = False).index.tolist()\n",
    "plt.bar(labels, kickstart_data.groupby(\"state\").size().sort_values(ascending=False, inplace=False))\n",
    "\n",
    "plt.xlabel(\"Success state\")\n",
    "plt.ylabel(\"Count\")\n",
    "fig = plt.gcf()\n",
    "fig.set_size_inches(7, 5)\n",
    "plt.title('Campaign Counts by Success State')\n",
    "\n",
    "plt.show()"
   ]
  },
  {
   "cell_type": "code",
   "execution_count": 38,
   "metadata": {},
   "outputs": [
    {
     "data": {
      "text/plain": [
       "<matplotlib.axes._subplots.AxesSubplot at 0x203e9ad2d30>"
      ]
     },
     "execution_count": 38,
     "metadata": {},
     "output_type": "execute_result"
    },
    {
     "data": {
      "image/png": "[encoded data removed]",
      "text/plain": [
       "<Figure size 504x288 with 1 Axes>"
      ]
     },
     "metadata": {},
     "output_type": "display_data"
    }
   ],
   "source": [
    "kickstart_data[\"state\"].value_counts().plot(kind = \"bar\", title = \"Campaign Counts by Success State\", figsize = (7, 4))"
   ]
  },
  {
   "cell_type": "markdown",
   "metadata": {},
   "source": [
    "### Most Successful Categories"
   ]
  },
  {
   "cell_type": "code",
   "execution_count": 39,
   "metadata": {},
   "outputs": [
    {
     "data": {
      "text/plain": [
       "'Product Design'"
      ]
     },
     "execution_count": 39,
     "metadata": {},
     "output_type": "execute_result"
    }
   ],
   "source": [
    "# Find the category with the most successful projects\n",
    "success[\"category\"].value_counts().idxmax()"
   ]
  },
  {
   "cell_type": "code",
   "execution_count": 40,
   "metadata": {},
   "outputs": [
    {
     "data": {
      "text/html": [
       "<div>\n",
       "<style scoped>\n",
       "    .dataframe tbody tr th:only-of-type {\n",
       "        vertical-align: middle;\n",
       "    }\n",
       "\n",
       "    .dataframe tbody tr th {\n",
       "        vertical-align: top;\n",
       "    }\n",
       "\n",
       "    .dataframe thead th {\n",
       "        text-align: right;\n",
       "    }\n",
       "</style>\n",
       "<table border=\"1\" class=\"dataframe\">\n",
       "  <thead>\n",
       "    <tr style=\"text-align: right;\">\n",
       "      <th></th>\n",
       "      <th>count</th>\n",
       "    </tr>\n",
       "    <tr>\n",
       "      <th>category</th>\n",
       "      <th></th>\n",
       "    </tr>\n",
       "  </thead>\n",
       "  <tbody>\n",
       "    <tr>\n",
       "      <th>Product Design</th>\n",
       "      <td>7962</td>\n",
       "    </tr>\n",
       "    <tr>\n",
       "      <th>Tabletop Games</th>\n",
       "      <td>7866</td>\n",
       "    </tr>\n",
       "    <tr>\n",
       "      <th>Shorts</th>\n",
       "      <td>6673</td>\n",
       "    </tr>\n",
       "    <tr>\n",
       "      <th>Music</th>\n",
       "      <td>6432</td>\n",
       "    </tr>\n",
       "    <tr>\n",
       "      <th>Documentary</th>\n",
       "      <td>5924</td>\n",
       "    </tr>\n",
       "    <tr>\n",
       "      <th>Theater</th>\n",
       "      <td>4405</td>\n",
       "    </tr>\n",
       "    <tr>\n",
       "      <th>Indie Rock</th>\n",
       "      <td>3618</td>\n",
       "    </tr>\n",
       "    <tr>\n",
       "      <th>Rock</th>\n",
       "      <td>3500</td>\n",
       "    </tr>\n",
       "    <tr>\n",
       "      <th>Art</th>\n",
       "      <td>3385</td>\n",
       "    </tr>\n",
       "    <tr>\n",
       "      <th>Food</th>\n",
       "      <td>3297</td>\n",
       "    </tr>\n",
       "    <tr>\n",
       "      <th>Film &amp; Video</th>\n",
       "      <td>3070</td>\n",
       "    </tr>\n",
       "    <tr>\n",
       "      <th>Country &amp; Folk</th>\n",
       "      <td>2812</td>\n",
       "    </tr>\n",
       "    <tr>\n",
       "      <th>Comics</th>\n",
       "      <td>2506</td>\n",
       "    </tr>\n",
       "    <tr>\n",
       "      <th>Video Games</th>\n",
       "      <td>2386</td>\n",
       "    </tr>\n",
       "    <tr>\n",
       "      <th>Children's Books</th>\n",
       "      <td>2348</td>\n",
       "    </tr>\n",
       "  </tbody>\n",
       "</table>\n",
       "</div>"
      ],
      "text/plain": [
       "                  count\n",
       "category               \n",
       "Product Design     7962\n",
       "Tabletop Games     7866\n",
       "Shorts             6673\n",
       "Music              6432\n",
       "Documentary        5924\n",
       "Theater            4405\n",
       "Indie Rock         3618\n",
       "Rock               3500\n",
       "Art                3385\n",
       "Food               3297\n",
       "Film & Video       3070\n",
       "Country & Folk     2812\n",
       "Comics             2506\n",
       "Video Games        2386\n",
       "Children's Books   2348"
      ]
     },
     "execution_count": 40,
     "metadata": {},
     "output_type": "execute_result"
    }
   ],
   "source": [
    "# Find the Top 15 categories\n",
    "top_15_categories = success[\"state\"].groupby(success[\"category\"]) \\\n",
    "                .agg([\"count\"]) \\\n",
    "                .sort_values([\"count\"], ascending = False) \\\n",
    "                .head(15)\n",
    "\n",
    "top_15_categories"
   ]
  },
  {
   "cell_type": "code",
   "execution_count": 41,
   "metadata": {},
   "outputs": [
    {
     "data": {
      "image/png": "[encoded data removed]",
      "text/plain": [
       "<Figure size 1080x576 with 1 Axes>"
      ]
     },
     "metadata": {},
     "output_type": "display_data"
    }
   ],
   "source": [
    "plt.barh(top_15_categories.index.values.tolist(), top_15_categories[\"count\"])\n",
    "plt.xlabel(\"Count\")\n",
    "plt.ylabel(\"Categories\")\n",
    "fig = plt.gcf()\n",
    "fig.set_size_inches(15, 8)\n",
    "plt.title('Categories with the most successful campaigns')\n",
    "plt.gca().invert_yaxis()\n",
    "plt.show()"
   ]
  },
  {
   "cell_type": "markdown",
   "metadata": {},
   "source": [
    "### Top Countries"
   ]
  },
  {
   "cell_type": "code",
   "execution_count": 42,
   "metadata": {},
   "outputs": [
    {
     "data": {
      "text/plain": [
       "country\n",
       "US    290878\n",
       "GB     33392\n",
       "CA     14624\n",
       "AU      7769\n",
       "DE      4096\n",
       "FR      2887\n",
       "NL      2833\n",
       "IT      2802\n",
       "ES      2224\n",
       "SE      1737\n",
       "dtype: int64"
      ]
     },
     "execution_count": 42,
     "metadata": {},
     "output_type": "execute_result"
    }
   ],
   "source": [
    "top_countries = kickstart_data.groupby(\"country\").size()\n",
    "top_countries.nlargest(10)"
   ]
  },
  {
   "cell_type": "code",
   "execution_count": 43,
   "metadata": {},
   "outputs": [
    {
     "data": {
      "text/plain": [
       "array(['GB', 'US', 'CA', 'AU', 'NO', 'IT', 'DE', 'IE', 'MX', 'ES', 'SE',\n",
       "       'FR', 'NL', 'NZ', 'CH', 'AT', 'DK', 'BE', 'HK', 'LU', 'SG', 'N,0\"',\n",
       "       'JP'], dtype=object)"
      ]
     },
     "execution_count": 43,
     "metadata": {},
     "output_type": "execute_result"
    }
   ],
   "source": [
    "kickstart_data[\"country\"].unique()"
   ]
  },
  {
   "cell_type": "markdown",
   "metadata": {},
   "source": [
    "#### *Upon closer inspection, it seems a significant number of American campaign locations are listed as their respective state, instead of \"US\". This could distort the data, so let's fix it now:*"
   ]
  },
  {
   "cell_type": "code",
   "execution_count": 44,
   "metadata": {},
   "outputs": [],
   "source": [
    "kickstart_data[\"country\"].replace({'N,0\"': \"US\"}, inplace = True)"
   ]
  },
  {
   "cell_type": "code",
   "execution_count": 45,
   "metadata": {},
   "outputs": [
    {
     "data": {
      "text/plain": [
       "array(['GB', 'US', 'CA', 'AU', 'NO', 'IT', 'DE', 'IE', 'MX', 'ES', 'SE',\n",
       "       'FR', 'NL', 'NZ', 'CH', 'AT', 'DK', 'BE', 'HK', 'LU', 'SG', 'JP'],\n",
       "      dtype=object)"
      ]
     },
     "execution_count": 45,
     "metadata": {},
     "output_type": "execute_result"
    }
   ],
   "source": [
    "kickstart_data[\"country\"].unique()"
   ]
  },
  {
   "cell_type": "code",
   "execution_count": 46,
   "metadata": {},
   "outputs": [
    {
     "data": {
      "text/plain": [
       "country\n",
       "US    291112\n",
       "GB     33392\n",
       "CA     14624\n",
       "AU      7769\n",
       "DE      4096\n",
       "FR      2887\n",
       "NL      2833\n",
       "IT      2802\n",
       "ES      2224\n",
       "SE      1737\n",
       "dtype: int64"
      ]
     },
     "execution_count": 46,
     "metadata": {},
     "output_type": "execute_result"
    }
   ],
   "source": [
    "top_countries = kickstart_data.groupby(\"country\").size()\n",
    "top_10_countries = top_countries.nlargest(10)\n",
    "\n",
    "top_10_countries"
   ]
  },
  {
   "cell_type": "code",
   "execution_count": 47,
   "metadata": {},
   "outputs": [
    {
     "data": {
      "image/png": "[encoded data removed]",
      "text/plain": [
       "<Figure size 720x432 with 1 Axes>"
      ]
     },
     "metadata": {},
     "output_type": "display_data"
    }
   ],
   "source": [
    "plt.title(\"Top 10 countries with the most campaigns\")\n",
    "plt.bar(range(10), top_10_countries)\n",
    "indices = top_10_countries.nlargest(10).index\n",
    "plt.xticks(range(10), indices)\n",
    "plt.xlabel(\"Country\")\n",
    "plt.ylabel(\"Number of campaigns\")\n",
    "fig = plt.gcf()\n",
    "fig.set_size_inches(10,6)\n",
    "plt.show()"
   ]
  },
  {
   "cell_type": "markdown",
   "metadata": {},
   "source": [
    "### Distribution of campaign success/failure by country"
   ]
  },
  {
   "cell_type": "code",
   "execution_count": 48,
   "metadata": {},
   "outputs": [
    {
     "data": {
      "image/png": "[encoded data removed]",
      "text/plain": [
       "<Figure size 864x576 with 1 Axes>"
      ]
     },
     "metadata": {},
     "output_type": "display_data"
    }
   ],
   "source": [
    "counts = kickstart_data.groupby(['country', 'state']).country.count().nlargest(10).unstack()\n",
    "\n",
    "counts.plot(kind ='bar', stacked=True)\n",
    "state = campaign_status.sort_values(ascending = False).index.tolist()\n",
    "\n",
    "plt.title(\"Distribution of campaign success status by country\")\n",
    "plt.xlabel(\"Country\")\n",
    "plt.ylabel(\"Total Campaign Count\")\n",
    "plt.xticks(np.arange(10), indices)\n",
    "plt.legend(state, title = \"Campaign Status\")\n",
    "\n",
    "fig = plt.gcf()\n",
    "plt.yscale(\"log\")\n",
    "fig.set_size_inches(12, 8)\n",
    "plt.show()"
   ]
  },
  {
   "cell_type": "code",
   "execution_count": 49,
   "metadata": {},
   "outputs": [
    {
     "data": {
      "image/png": "[encoded data removed]",
      "text/plain": [
       "<Figure size 1152x648 with 1 Axes>"
      ]
     },
     "metadata": {},
     "output_type": "display_data"
    }
   ],
   "source": [
    "sns.set(rc = {\"figure.figsize\": (16, 9)})\n",
    "sns.countplot(x = \"country\", hue = \"state\", data = kickstart_data, order = kickstart_data[\"country\"].value_counts().index)\n",
    "plt.legend(loc = \"upper right\")\n",
    "plt.title(\"Campaign success/failure breakdown by country\")\n",
    "plt.yscale('log')"
   ]
  },
  {
   "cell_type": "code",
   "execution_count": 50,
   "metadata": {},
   "outputs": [
    {
     "data": {
      "image/png": "[encoded data removed]",
      "text/plain": [
       "<Figure size 864x504 with 1 Axes>"
      ]
     },
     "metadata": {},
     "output_type": "display_data"
    }
   ],
   "source": [
    "# Projects by Main Category\n",
    "projects_percent = kickstart_data.main_category.value_counts()/(kickstart_data.shape[0]*100)\n",
    "ax = projects_percent.plot(kind = \"bar\", figsize = (12, 7))\n",
    "plt.title(\"Kickstarter Projects by Main Category\")\n",
    "vals = ax.get_yticks()\n",
    "ax.set_yticklabels([\"{:,.2%}\".format(x) for x in vals])\n",
    "plt.show()"
   ]
  },
  {
   "cell_type": "markdown",
   "metadata": {},
   "source": [
    "### Campaign Currency"
   ]
  },
  {
   "cell_type": "code",
   "execution_count": 51,
   "metadata": {},
   "outputs": [
    {
     "data": {
      "image/png": "[encoded data removed]",
      "text/plain": [
       "<Figure size 864x504 with 1 Axes>"
      ]
     },
     "metadata": {},
     "output_type": "display_data"
    }
   ],
   "source": [
    "# Non Logarithmic chart\n",
    "\n",
    "currency_distribution = kickstart_data['currency'].value_counts().plot(kind = \"bar\", title = \"Campaign Currency Distribution\", figsize = (12, 7))"
   ]
  },
  {
   "cell_type": "code",
   "execution_count": 52,
   "metadata": {},
   "outputs": [
    {
     "data": {
      "image/png": "[encoded data removed]",
      "text/plain": [
       "<Figure size 864x504 with 1 Axes>"
      ]
     },
     "metadata": {},
     "output_type": "display_data"
    }
   ],
   "source": [
    "# For comparison - Logarithmic Chart\n",
    "\n",
    "kickstart_data['currency'].value_counts().plot(kind = \"bar\", title = \"Campaign Currency Distribution (Logarithmic)\", figsize = (12, 7))\n",
    "plt.yscale(\"log\")"
   ]
  },
  {
   "cell_type": "markdown",
   "metadata": {},
   "source": [
    "### Project Goals"
   ]
  },
  {
   "cell_type": "code",
   "execution_count": 53,
   "metadata": {},
   "outputs": [
    {
     "data": {
      "text/plain": [
       "5000.0     23599\n",
       "10000.0    20613\n",
       "1000.0     12959\n",
       "3000.0     12356\n",
       "2000.0     11627\n",
       "15000.0    11298\n",
       "20000.0    10042\n",
       "2500.0      9606\n",
       "500.0       8536\n",
       "25000.0     8311\n",
       "Name: usd_goal_real, dtype: int64"
      ]
     },
     "execution_count": 53,
     "metadata": {},
     "output_type": "execute_result"
    }
   ],
   "source": [
    "most_common_goals = kickstart_data[\"usd_goal_real\"].value_counts()\n",
    "most_common_goals.nlargest(10)"
   ]
  },
  {
   "cell_type": "code",
   "execution_count": 54,
   "metadata": {},
   "outputs": [
    {
     "data": {
      "text/plain": [
       "(49602,)"
      ]
     },
     "execution_count": 54,
     "metadata": {},
     "output_type": "execute_result"
    }
   ],
   "source": [
    "kickstart_data[\"usd_goal_real\"].unique().shape"
   ]
  },
  {
   "cell_type": "code",
   "execution_count": 55,
   "metadata": {},
   "outputs": [
    {
     "data": {
      "image/png": "[encoded data removed]",
      "text/plain": [
       "<Figure size 864x504 with 1 Axes>"
      ]
     },
     "metadata": {},
     "output_type": "display_data"
    }
   ],
   "source": [
    "### Plotting the most common campaign goals\n",
    "\n",
    "goal_labels = kickstart_data[\"usd_goal_real\"].value_counts().index\n",
    "\n",
    "fig = plt.gcf()\n",
    "fig.set_size_inches(12, 7)\n",
    "plt.title('Campaign Goals')\n",
    "plt.xlabel(\"Number of Campaigns\")\n",
    "plt.ylabel(\"Goal, USD\")\n",
    "plt.bar(np.arange(len(goal_labels + 1)), kickstart_data[\"usd_goal_real\"].value_counts(), edgecolor = \"blue\")\n",
    "plt.yscale(\"log\")\n",
    "# plt.savefig(\"Campaign Goals\")"
   ]
  },
  {
   "cell_type": "code",
   "execution_count": 56,
   "metadata": {},
   "outputs": [],
   "source": [
    "#Defining campaign goal brackets:\n",
    "\n",
    "up_to_1K = kickstart_data[(kickstart_data[\"usd_goal_real\"] <= 1000)]\n",
    "\n",
    "up_to_10K = kickstart_data[(kickstart_data[\"usd_goal_real\"] > 1000) & (kickstart_data[\"usd_goal_real\"] <= 10000)]\n",
    "\n",
    "up_to_50K = kickstart_data[(kickstart_data[\"usd_goal_real\"] > 10000) & (kickstart_data[\"usd_goal_real\"] <= 50000)]\n",
    "\n",
    "up_to_100K = kickstart_data[(kickstart_data[\"usd_goal_real\"] > 50000) & (kickstart_data[\"usd_goal_real\"] <= 100000)]\n",
    "\n",
    "up_to_1M = kickstart_data[(kickstart_data[\"usd_goal_real\"] > 100000) & (kickstart_data[\"usd_goal_real\"] <= 1000000) ]\n",
    "\n",
    "up_to_10M = kickstart_data[(kickstart_data[\"usd_goal_real\"] > 1000000) & (kickstart_data[\"usd_goal_real\"] <= 10000000) ]\n",
    "\n",
    "above_10M = kickstart_data[(kickstart_data[\"usd_goal_real\"] > 10000000)]"
   ]
  },
  {
   "cell_type": "code",
   "execution_count": 57,
   "metadata": {},
   "outputs": [
    {
     "data": {
      "image/png": "[encoded data removed]",
      "text/plain": [
       "<Figure size 864x504 with 1 Axes>"
      ]
     },
     "metadata": {},
     "output_type": "display_data"
    }
   ],
   "source": [
    "counts = up_to_1K.shape[0], up_to_10K.shape[0], up_to_50K.shape[0],\\\n",
    "                up_to_100K.shape[0], up_to_1M.shape[0],\\\n",
    "                up_to_10M.shape[0], above_10M.shape[0]\n",
    "labels = [\"0 to 1K\", \"1k to 10K\", \"10k to 50K\", \"50k to 100K\", \"100k to 1M\", \"1M to 10M\", \"Above 10M\"]\n",
    "\n",
    "plt.bar(labels, counts)\n",
    "plt.title(\"Campaign Goals Combined into Brackets\")\n",
    "plt.xlabel(\"Goal, USD\")\n",
    "plt.ylabel(\"Number of Campaigns\")\n",
    "fig = plt.gcf()\n",
    "fig.set_size_inches(12, 7)\n",
    "# plt.yscale(\"log\")\n",
    "plt.show()"
   ]
  },
  {
   "cell_type": "code",
   "execution_count": 58,
   "metadata": {},
   "outputs": [
    {
     "data": {
      "image/png": "[encoded data removed]",
      "text/plain": [
       "<Figure size 864x504 with 1 Axes>"
      ]
     },
     "metadata": {},
     "output_type": "display_data"
    }
   ],
   "source": [
    "# Plotting the first bracket - up to 1K\n",
    "plt.figure(figsize = (12, 7))\n",
    "\n",
    "plt.hist(up_to_1K[\"usd_goal_real\"], bins=20)\n",
    "plt.title(\"Campaigns seeking up to 1K funding\")\n",
    "plt.xlabel(\"Goal, USD\")\n",
    "plt.ylabel(\"Number of Campaigns\")\n",
    "plt.show()"
   ]
  },
  {
   "cell_type": "code",
   "execution_count": 59,
   "metadata": {},
   "outputs": [
    {
     "data": {
      "image/png": "[encoded data removed]",
      "text/plain": [
       "<Figure size 864x504 with 1 Axes>"
      ]
     },
     "metadata": {},
     "output_type": "display_data"
    }
   ],
   "source": [
    "# Plotting the second bracket - up to 10K\n",
    "plt.figure(figsize = (12, 7))\n",
    "\n",
    "plt.hist(up_to_10K[\"usd_goal_real\"], bins=20)\n",
    "plt.title(\"Campaigns seeking up to 10K funding\")\n",
    "plt.xlabel(\"Goal, USD\")\n",
    "plt.ylabel(\"Number of Campaigns\")\n",
    "plt.show()"
   ]
  },
  {
   "cell_type": "code",
   "execution_count": 60,
   "metadata": {},
   "outputs": [
    {
     "data": {
      "image/png": "[encoded data removed]",
      "text/plain": [
       "<Figure size 864x504 with 1 Axes>"
      ]
     },
     "metadata": {},
     "output_type": "display_data"
    }
   ],
   "source": [
    "# Plotting the third bracket - up to 50K\n",
    "plt.figure(figsize = (12, 7))\n",
    "\n",
    "plt.hist(up_to_50K[\"usd_goal_real\"], bins=20)\n",
    "plt.title(\"Campaigns seeking up to 50K funding\")\n",
    "plt.xlabel(\"Goal, USD\")\n",
    "plt.ylabel(\"Number of Campaigns\")\n",
    "plt.show()"
   ]
  },
  {
   "cell_type": "code",
   "execution_count": 61,
   "metadata": {},
   "outputs": [
    {
     "data": {
      "image/png": "[encoded data removed]",
      "text/plain": [
       "<Figure size 864x504 with 1 Axes>"
      ]
     },
     "metadata": {},
     "output_type": "display_data"
    }
   ],
   "source": [
    "# Plotting the fourth bracket - up to 100K\n",
    "plt.figure(figsize = (12, 7))\n",
    "\n",
    "plt.hist(up_to_100K[\"usd_goal_real\"], bins=20)\n",
    "plt.title(\"Campaigns seeking up to 100K funding\")\n",
    "plt.xlabel(\"Goal, USD\")\n",
    "plt.ylabel(\"Number of Campaigns\")\n",
    "plt.show()"
   ]
  },
  {
   "cell_type": "code",
   "execution_count": 62,
   "metadata": {},
   "outputs": [
    {
     "data": {
      "image/png": "[encoded data removed]",
      "text/plain": [
       "<Figure size 864x504 with 1 Axes>"
      ]
     },
     "metadata": {},
     "output_type": "display_data"
    }
   ],
   "source": [
    "# Plotting the fifth bracket - up to 1M\n",
    "plt.figure(figsize = (12, 7))\n",
    "\n",
    "plt.hist(up_to_1M[\"usd_goal_real\"], bins = 50)\n",
    "plt.title(\"Campaigns seeking up to 1M funding\")\n",
    "plt.xlabel(\"Goal, USD\")\n",
    "plt.ylabel(\"Number of Campaigns\")\n",
    "# plt.yscale(\"log\")\n",
    "plt.show()"
   ]
  },
  {
   "cell_type": "code",
   "execution_count": 63,
   "metadata": {},
   "outputs": [
    {
     "data": {
      "image/png": "[encoded data removed]",
      "text/plain": [
       "<Figure size 864x504 with 1 Axes>"
      ]
     },
     "metadata": {},
     "output_type": "display_data"
    }
   ],
   "source": [
    "# Plotting the sixth bracket - up to 10M\n",
    "plt.figure(figsize = (12, 7))\n",
    "\n",
    "plt.hist(up_to_10M[\"usd_goal_real\"], bins = 50)\n",
    "plt.title(\"Campaigns seeking up to 10M funding\")\n",
    "plt.xlabel(\"Goal\")\n",
    "plt.ylabel(\"Number of Campaigns\")\n",
    "# plt.yscale(\"log\")\n",
    "plt.show()"
   ]
  },
  {
   "cell_type": "code",
   "execution_count": 64,
   "metadata": {},
   "outputs": [
    {
     "data": {
      "image/png": "[encoded data removed]",
      "text/plain": [
       "<Figure size 864x504 with 1 Axes>"
      ]
     },
     "metadata": {},
     "output_type": "display_data"
    }
   ],
   "source": [
    "# Plotting the final bracket - above 10M\n",
    "plt.figure(figsize = (12, 7))\n",
    "\n",
    "plt.hist(above_10M[\"usd_goal_real\"], bins = 50)\n",
    "plt.title(\"Campaigns seeking above 10M funding\")\n",
    "plt.xlabel(\"Goal\")\n",
    "plt.ylabel(\"Number of Campaigns\")\n",
    "# plt.yscale(\"log\")\n",
    "plt.show()"
   ]
  },
  {
   "cell_type": "markdown",
   "metadata": {},
   "source": [
    "#### Inspecting outliers"
   ]
  },
  {
   "cell_type": "code",
   "execution_count": 65,
   "metadata": {},
   "outputs": [
    {
     "data": {
      "text/plain": [
       "ID\n",
       "1243678698    1.663614e+08\n",
       "2000749004    1.513959e+08\n",
       "944541075     1.101698e+08\n",
       "2132015082    1.073699e+08\n",
       "219702078     1.040572e+08\n",
       "Name: usd_goal_real, dtype: float64"
      ]
     },
     "execution_count": 65,
     "metadata": {},
     "output_type": "execute_result"
    }
   ],
   "source": [
    "highest_goals = kickstart_data[\"usd_goal_real\"].sort_values(ascending=False)\n",
    "highest_goals.nlargest(5)"
   ]
  },
  {
   "cell_type": "code",
   "execution_count": 66,
   "metadata": {},
   "outputs": [
    {
     "data": {
      "text/plain": [
       "ID\n",
       "688564643     0.01\n",
       "620302213     0.01\n",
       "9572984       0.15\n",
       "1379346088    0.49\n",
       "219760504     0.50\n",
       "Name: usd_goal_real, dtype: float64"
      ]
     },
     "execution_count": 66,
     "metadata": {},
     "output_type": "execute_result"
    }
   ],
   "source": [
    "lowest_goals = kickstart_data[\"usd_goal_real\"].sort_values(ascending=True)\n",
    "lowest_goals.nsmallest(5)"
   ]
  },
  {
   "cell_type": "code",
   "execution_count": 67,
   "metadata": {},
   "outputs": [
    {
     "data": {
      "text/plain": [
       "successful    515\n",
       "failed        257\n",
       "Name: state, dtype: int64"
      ]
     },
     "execution_count": 67,
     "metadata": {},
     "output_type": "execute_result"
    }
   ],
   "source": [
    "lowest_100_projects = kickstart_data[kickstart_data[\"usd_goal_real\"] < 10]\n",
    "lowest_100_projects[\"state\"].value_counts()"
   ]
  },
  {
   "cell_type": "markdown",
   "metadata": {},
   "source": [
    "It seems there are some campaigns which seek very modest funding goals; the creators may be participating in kickstarter for publicity instead."
   ]
  },
  {
   "cell_type": "code",
   "execution_count": 68,
   "metadata": {},
   "outputs": [
    {
     "data": {
      "text/plain": [
       "failed    147\n",
       "Name: state, dtype: int64"
      ]
     },
     "execution_count": 68,
     "metadata": {},
     "output_type": "execute_result"
    }
   ],
   "source": [
    "highest_projects = kickstart_data[kickstart_data[\"usd_goal_real\"] > 10000000]\n",
    "highest_projects[\"state\"].value_counts()"
   ]
  },
  {
   "cell_type": "markdown",
   "metadata": {},
   "source": [
    "Unsurprisingly, all campaigns seeking funding of 10 000 000 USD or more have failed."
   ]
  },
  {
   "cell_type": "markdown",
   "metadata": {},
   "source": [
    "### Hypothesis Testing"
   ]
  },
  {
   "cell_type": "markdown",
   "metadata": {},
   "source": [
    "**𝐻0**: Campaign success is not correlated with certain campaign goal amounts; the variation in the data is due to chance.<br>\n",
    "**𝐻1**: The differences are not coincidental.<br>\n",
    "Let's assume a 1% threshold value of  𝑝 (0.01). If 𝑝 ≤ 0.01%, we will reject 𝐻0."
   ]
  },
  {
   "cell_type": "code",
   "execution_count": 69,
   "metadata": {},
   "outputs": [],
   "source": [
    "success_by_goal = kickstart_data.groupby(\"state\")[\"goal\"]"
   ]
  },
  {
   "cell_type": "code",
   "execution_count": 70,
   "metadata": {},
   "outputs": [],
   "source": [
    "successful_campaigns = success_by_goal.get_group(\"successful\")\n",
    "failed_campaigns = success_by_goal.get_group(\"failed\")"
   ]
  },
  {
   "cell_type": "code",
   "execution_count": 71,
   "metadata": {
    "scrolled": false
   },
   "outputs": [
    {
     "name": "stdout",
     "output_type": "stream",
     "text": [
      "Ttest_indResult(statistic=-20.20014084881247, pvalue=1.1629104613890887e-90)\n",
      "1.1629104613890887e-90\n",
      "The differences are significant. Reject H0.\n",
      "            Independent t-test      results\n",
      "0  Difference (goal - goal) =   -61135.4560\n",
      "1        Degrees of freedom =   372287.0000\n",
      "2                         t =      -15.1482\n",
      "3     Two side test p value =        0.0000\n",
      "4    Difference > 0 p value =        0.0000\n",
      "5    Difference < 0 p value =        1.0000\n",
      "6                 Cohen's d =       -0.0517\n",
      "7                 Hedge's g =       -0.0517\n",
      "8             Glass's delta =       -1.9564\n",
      "9                         r =        0.0248\n"
     ]
    },
    {
     "data": {
      "text/html": [
       "<div>\n",
       "<style scoped>\n",
       "    .dataframe tbody tr th:only-of-type {\n",
       "        vertical-align: middle;\n",
       "    }\n",
       "\n",
       "    .dataframe tbody tr th {\n",
       "        vertical-align: top;\n",
       "    }\n",
       "\n",
       "    .dataframe thead th {\n",
       "        text-align: right;\n",
       "    }\n",
       "</style>\n",
       "<table border=\"1\" class=\"dataframe\">\n",
       "  <thead>\n",
       "    <tr style=\"text-align: right;\">\n",
       "      <th></th>\n",
       "      <th>Variable</th>\n",
       "      <th>N</th>\n",
       "      <th>Mean</th>\n",
       "      <th>SD</th>\n",
       "      <th>SE</th>\n",
       "      <th>95% Conf.</th>\n",
       "      <th>Interval</th>\n",
       "    </tr>\n",
       "  </thead>\n",
       "  <tbody>\n",
       "    <tr>\n",
       "      <th>0</th>\n",
       "      <td>goal</td>\n",
       "      <td>133956.0</td>\n",
       "      <td>10162.960544</td>\n",
       "      <td>3.124829e+04</td>\n",
       "      <td>85.377841</td>\n",
       "      <td>9995.621539</td>\n",
       "      <td>10330.299550</td>\n",
       "    </tr>\n",
       "    <tr>\n",
       "      <th>1</th>\n",
       "      <td>goal</td>\n",
       "      <td>238333.0</td>\n",
       "      <td>71298.416519</td>\n",
       "      <td>1.476923e+06</td>\n",
       "      <td>3025.282115</td>\n",
       "      <td>65368.942417</td>\n",
       "      <td>77227.890621</td>\n",
       "    </tr>\n",
       "    <tr>\n",
       "      <th>2</th>\n",
       "      <td>combined</td>\n",
       "      <td>372289.0</td>\n",
       "      <td>49300.825560</td>\n",
       "      <td>1.182219e+06</td>\n",
       "      <td>1937.572483</td>\n",
       "      <td>45503.240930</td>\n",
       "      <td>53098.410190</td>\n",
       "    </tr>\n",
       "  </tbody>\n",
       "</table>\n",
       "</div>"
      ],
      "text/plain": [
       "   Variable         N          Mean            SD           SE     95% Conf.  \\\n",
       "0      goal  133956.0  10162.960544  3.124829e+04    85.377841   9995.621539   \n",
       "1      goal  238333.0  71298.416519  1.476923e+06  3025.282115  65368.942417   \n",
       "2  combined  372289.0  49300.825560  1.182219e+06  1937.572483  45503.240930   \n",
       "\n",
       "       Interval  \n",
       "0  10330.299550  \n",
       "1  77227.890621  \n",
       "2  53098.410190  "
      ]
     },
     "metadata": {},
     "output_type": "display_data"
    }
   ],
   "source": [
    "test_result = ttest_ind(successful_campaigns, failed_campaigns, equal_var = False)\n",
    "print(test_result)\n",
    "\n",
    "print(test_result.pvalue)\n",
    "if test_result.pvalue <= 0.01:\n",
    "    print(\"The differences are significant. Reject H0.\")\n",
    "else:\n",
    "    print(\"There's not enough evidence to reject H0. Don't accept or reject anything else.\")\n",
    "    \n",
    "descriptives, test_result = rp.ttest(successful_campaigns, failed_campaigns)\n",
    "print(test_result)\n",
    "\n",
    "display(descriptives)"
   ]
  },
  {
   "cell_type": "markdown",
   "metadata": {},
   "source": [
    "**Therefore**, we reject the null hypothesis and reach the conclusion that campaign goals do indeed have a strong correlation to success probability.<br/>\n",
    "On the chart below, we can observe that the majority of kickstarter campaigns tend to seek funding below 50K USD, and the most common goal bracket is between 1k and 10k USD."
   ]
  },
  {
   "cell_type": "code",
   "execution_count": 72,
   "metadata": {},
   "outputs": [],
   "source": [
    "#Campaign goal brackets - for successful projects only\n",
    "success_goals = kickstart_data[(kickstart_data[\"state\"] == \"successful\")]\n",
    "\n",
    "up_to_1K_goal = success_goals[(success_goals[\"usd_goal_real\"] <= 1000)]\n",
    "\n",
    "up_to_10K_goal = success_goals[(success_goals[\"usd_goal_real\"] > 1000) & (success_goals[\"usd_goal_real\"] <= 10000)]\n",
    "\n",
    "up_to_50K_goal = success_goals[(success_goals[\"usd_goal_real\"] > 10000) & (success_goals[\"usd_goal_real\"] <= 50000)]\n",
    "\n",
    "up_to_100K_goal = success_goals[(success_goals[\"usd_goal_real\"] > 50000) & (success_goals[\"usd_goal_real\"] <= 100000)]\n",
    "\n",
    "up_to_1M_goal = success_goals[(success_goals[\"usd_goal_real\"] > 100000) & (success_goals[\"usd_goal_real\"] <= 1000000) ]\n",
    "\n",
    "up_to_10M_goal = success_goals[(success_goals[\"usd_goal_real\"] > 1000000) & (success_goals[\"usd_goal_real\"] <= 10000000) ]\n",
    "\n",
    "above_10M_goal = success_goals[(success_goals[\"usd_goal_real\"] > 10000000)]"
   ]
  },
  {
   "cell_type": "code",
   "execution_count": 73,
   "metadata": {},
   "outputs": [
    {
     "data": {
      "image/png": "[encoded data removed]",
      "text/plain": [
       "<Figure size 864x504 with 1 Axes>"
      ]
     },
     "metadata": {},
     "output_type": "display_data"
    }
   ],
   "source": [
    "counts = up_to_1K_goal.shape[0], up_to_10K_goal.shape[0], up_to_50K_goal.shape[0],\\\n",
    "                up_to_100K_goal.shape[0], up_to_1M_goal.shape[0],\\\n",
    "                up_to_10M_goal.shape[0], above_10M_goal.shape[0]\n",
    "labels = [\"0 to 1K\", \"1k to 10K\", \"10k to 50K\", \"50k to 100K\", \"100k to 1M\", \"1M to 10M\", \"Above 10M\"]\n",
    "\n",
    "plt.bar(labels, counts)\n",
    "plt.title(\"Successful Campaign Goals Combined into Brackets\")\n",
    "plt.xlabel(\"Desired Amount, USD\")\n",
    "plt.ylabel(\"Count\")\n",
    "fig = plt.gcf()\n",
    "fig.set_size_inches(12, 7)\n",
    "# plt.yscale(\"log\")\n",
    "plt.show()"
   ]
  },
  {
   "cell_type": "markdown",
   "metadata": {},
   "source": [
    "## Modeling\n",
    "First of all, we select the target and explanatory variables and convert the categorical ones to dummies. The target variable is converted to binary.<br>\n",
    "The modeling approach itself is relatively uniform across all models being used - fitting and scoring a model, then trying to optimize its parameters through grid search and subsequently refitting and scoring the tuned one to compare the performances.<br>\n",
    "We will focus mostly on F1 as an evaluation metric, since is better suited in case of imbalanced classes.\n"
   ]
  },
  {
   "cell_type": "markdown",
   "metadata": {},
   "source": [
    "### Selecting Target and Explanatory Variables"
   ]
  },
  {
   "cell_type": "code",
   "execution_count": 74,
   "metadata": {},
   "outputs": [],
   "source": [
    "kickstart_data[\"usd_goal_real\"] = (minmax_scale(kickstart_data[\"usd_goal_real\"], feature_range=(0,1)))"
   ]
  },
  {
   "cell_type": "code",
   "execution_count": 75,
   "metadata": {},
   "outputs": [],
   "source": [
    "kickstart_features = kickstart_data[[\"main_category\", \"duration\", \"country\", \"usd_goal_real\"]] # explanatory features\n",
    "\n",
    "kickstart_output = kickstart_data[\"state\"].copy(deep = True) # output feature"
   ]
  },
  {
   "cell_type": "code",
   "execution_count": 76,
   "metadata": {},
   "outputs": [
    {
     "data": {
      "text/plain": [
       "Index(['main_category', 'duration', 'country', 'usd_goal_real'], dtype='object')"
      ]
     },
     "execution_count": 76,
     "metadata": {},
     "output_type": "execute_result"
    }
   ],
   "source": [
    "kickstart_features.columns"
   ]
  },
  {
   "cell_type": "markdown",
   "metadata": {},
   "source": [
    "#### Here it is important to note that we are **not** going to use any columns containing data about a campaign's number of backers or actual pledged amount, as that information is obtained post factum and would distort the models."
   ]
  },
  {
   "cell_type": "code",
   "execution_count": 77,
   "metadata": {},
   "outputs": [
    {
     "data": {
      "text/plain": [
       "(372289, 39)"
      ]
     },
     "execution_count": 77,
     "metadata": {},
     "output_type": "execute_result"
    }
   ],
   "source": [
    "kickstart_features = pd.get_dummies(kickstart_features, columns = None)\n",
    "pd.set_option('display.max_columns', 50)\n",
    "\n",
    "# kickstart_features.head()\n",
    "# kickstart_features.columns\n",
    "kickstart_features.shape"
   ]
  },
  {
   "cell_type": "code",
   "execution_count": 78,
   "metadata": {},
   "outputs": [],
   "source": [
    "kickstart_output.replace([\"failed\", \"successful\"], [0, 1], inplace=True)"
   ]
  },
  {
   "cell_type": "code",
   "execution_count": 79,
   "metadata": {},
   "outputs": [
    {
     "data": {
      "text/plain": [
       "dtype('int64')"
      ]
     },
     "execution_count": 79,
     "metadata": {},
     "output_type": "execute_result"
    }
   ],
   "source": [
    "kickstart_output.dtype"
   ]
  },
  {
   "cell_type": "code",
   "execution_count": 80,
   "metadata": {},
   "outputs": [],
   "source": [
    "warnings.filterwarnings(\"ignore\", category=FutureWarning)\n",
    "\n",
    "kickstart_features_train, kickstart_features_test, kickstart_output_train,\\\n",
    "kickstart_output_test = train_test_split(kickstart_features, kickstart_output, train_size = 0.7, random_state = 1234)"
   ]
  },
  {
   "cell_type": "code",
   "execution_count": 81,
   "metadata": {},
   "outputs": [],
   "source": [
    "assert kickstart_features_train.shape[0] == kickstart_output_train.shape[0]"
   ]
  },
  {
   "cell_type": "code",
   "execution_count": 82,
   "metadata": {},
   "outputs": [],
   "source": [
    "assert kickstart_features_test.shape[0] == kickstart_output_test.shape[0]"
   ]
  },
  {
   "cell_type": "markdown",
   "metadata": {},
   "source": [
    "## Logistic Regression"
   ]
  },
  {
   "cell_type": "code",
   "execution_count": 83,
   "metadata": {},
   "outputs": [
    {
     "data": {
      "text/plain": [
       "LogisticRegression(C=10000.0, class_weight=None, dual=False,\n",
       "                   fit_intercept=False, intercept_scaling=1, l1_ratio=None,\n",
       "                   max_iter=100, multi_class='warn', n_jobs=None, penalty='l2',\n",
       "                   random_state=1234, solver='warn', tol=0.0001, verbose=0,\n",
       "                   warm_start=False)"
      ]
     },
     "execution_count": 83,
     "metadata": {},
     "output_type": "execute_result"
    }
   ],
   "source": [
    "kickstart_regr = LogisticRegression(C = 1e4, fit_intercept = False, random_state = 1234)\n",
    "x = kickstart_features_train\n",
    "y = kickstart_output_train\n",
    "kickstart_regr.fit(x, y)"
   ]
  },
  {
   "cell_type": "markdown",
   "metadata": {},
   "source": [
    "### Evaluating and Fine-Tuning the Model"
   ]
  },
  {
   "cell_type": "code",
   "execution_count": 84,
   "metadata": {},
   "outputs": [],
   "source": [
    "train_predictions = kickstart_regr.predict(kickstart_features_train)\n",
    "test_predictions = kickstart_regr.predict(kickstart_features_test)"
   ]
  },
  {
   "cell_type": "code",
   "execution_count": 85,
   "metadata": {},
   "outputs": [
    {
     "name": "stdout",
     "output_type": "stream",
     "text": [
      "0.6597544924655511\n"
     ]
    }
   ],
   "source": [
    "accuracy_score = kickstart_regr.score(kickstart_features_test, kickstart_output_test)\n",
    "\n",
    "print(accuracy_score)"
   ]
  },
  {
   "cell_type": "code",
   "execution_count": 86,
   "metadata": {},
   "outputs": [
    {
     "name": "stdout",
     "output_type": "stream",
     "text": [
      "0.33965280553286875\n"
     ]
    }
   ],
   "source": [
    "f_1 = f1_score(kickstart_output_test, test_predictions)\n",
    "\n",
    "print(f_1)"
   ]
  },
  {
   "cell_type": "markdown",
   "metadata": {},
   "source": [
    "#### Implementing and pickling the regression grid search:"
   ]
  },
  {
   "cell_type": "code",
   "execution_count": 91,
   "metadata": {},
   "outputs": [],
   "source": [
    "# parameters = [{\"C\": [1e-8, 1e-5, 0.0001, 0.01, 0.1, 1, 10, 100, 10000, 1e6],\n",
    "#                 \"max_iter\": [10, 20, 50, 100, 300, 1000],\n",
    "#                 \"fit_intercept\": [True, False]}]\n",
    "\n",
    "# regr_grid_search = GridSearchCV(LogisticRegression(), param_grid = parameters, cv=10, n_jobs=-1)\n",
    "# regr_grid_search.fit(kickstart_features_train, kickstart_output_train)\n",
    "\n",
    "# logreg_grid_pickle_out = open(\"logreg_grid.pickle\", \"wb\")\n",
    "# pickle.dump(regr_grid_search, logreg_grid_pickle_out)\n",
    "# logreg_grid_pickle_out.close()\n",
    "\n",
    "# print(regr_grid_search.best_params_)"
   ]
  },
  {
   "cell_type": "code",
   "execution_count": 90,
   "metadata": {},
   "outputs": [
    {
     "name": "stdout",
     "output_type": "stream",
     "text": [
      "{'C': 10000, 'fit_intercept': False, 'max_iter': 10}\n"
     ]
    }
   ],
   "source": [
    "logreg_grid_pickle_in = open(\"logreg_grid.pickle\", \"rb\")\n",
    "regr_grid_search = pickle.load(logreg_grid_pickle_in)\n",
    "\n",
    "logreg_grid_pickle_in.close()\n",
    "\n",
    "print(regr_grid_search.best_params_)"
   ]
  },
  {
   "cell_type": "code",
   "execution_count": 92,
   "metadata": {},
   "outputs": [],
   "source": [
    "regr_grid_search_best_params = regr_grid_search.best_params_"
   ]
  },
  {
   "cell_type": "code",
   "execution_count": 97,
   "metadata": {},
   "outputs": [],
   "source": [
    "# # Implementing the grid search and pickling the model\n",
    "\n",
    "# C_best = regr_grid_search_best_params[\"C\"]\n",
    "# max_iter_best = regr_grid_search_best_params[\"max_iter\"]\n",
    "# fit_intercept_best = regr_grid_search_best_params[\"fit_intercept\"]\n",
    "\n",
    "# model_tuned = LogisticRegression(C = C_best, max_iter = 50, fit_intercept = fit_intercept_best)\n",
    "# model_tuned.fit(kickstart_features_train, kickstart_output_train)\n",
    "\n",
    "# # Pickling the tuned model\n",
    "\n",
    "# logreg_tuned_pickle_out = open(\"logreg_tuned.pickle\", \"wb\")\n",
    "# pickle.dump(model_tuned, logreg_tuned_pickle_out)\n",
    "# logreg_tuned_pickle_out.close()"
   ]
  },
  {
   "cell_type": "code",
   "execution_count": 96,
   "metadata": {},
   "outputs": [],
   "source": [
    "# Loading the pickle file\n",
    "\n",
    "logreg_tuned_pickle_in = open(\"logreg_tuned.pickle\", \"rb\")\n",
    "model_tuned = pickle.load(logreg_tuned_pickle_in)\n",
    "\n",
    "logreg_tuned_pickle_in.close()"
   ]
  },
  {
   "cell_type": "code",
   "execution_count": 98,
   "metadata": {},
   "outputs": [
    {
     "data": {
      "text/plain": [
       "0.6597544924655511"
      ]
     },
     "execution_count": 98,
     "metadata": {},
     "output_type": "execute_result"
    }
   ],
   "source": [
    "tuned_accuracy = model_tuned.score(kickstart_features_test, kickstart_output_test)\n",
    "tuned_accuracy"
   ]
  },
  {
   "cell_type": "code",
   "execution_count": 99,
   "metadata": {},
   "outputs": [
    {
     "data": {
      "text/plain": [
       "0.33965280553286875"
      ]
     },
     "execution_count": 99,
     "metadata": {},
     "output_type": "execute_result"
    }
   ],
   "source": [
    "tuned_test_predictions = model_tuned.predict(kickstart_features_test)\n",
    "\n",
    "tuned_f1 = f1_score(kickstart_output_test, tuned_test_predictions)\n",
    "tuned_f1"
   ]
  },
  {
   "cell_type": "markdown",
   "metadata": {},
   "source": [
    "### Logistic Regression Confusion Matrix & Classification Report"
   ]
  },
  {
   "cell_type": "code",
   "execution_count": 100,
   "metadata": {},
   "outputs": [
    {
     "name": "stdout",
     "output_type": "stream",
     "text": [
      "[[63913  7582]\n",
      " [30419  9773]]\n"
     ]
    }
   ],
   "source": [
    "cfm = confusion_matrix(kickstart_output_test, tuned_test_predictions)\n",
    "print(cfm)"
   ]
  },
  {
   "cell_type": "code",
   "execution_count": 101,
   "metadata": {},
   "outputs": [
    {
     "name": "stdout",
     "output_type": "stream",
     "text": [
      "              precision    recall  f1-score   support\n",
      "\n",
      "           0       0.68      0.89      0.77     71495\n",
      "           1       0.56      0.24      0.34     40192\n",
      "\n",
      "    accuracy                           0.66    111687\n",
      "   macro avg       0.62      0.57      0.56    111687\n",
      "weighted avg       0.64      0.66      0.62    111687\n",
      "\n"
     ]
    }
   ],
   "source": [
    "print(classification_report(kickstart_output_test, tuned_test_predictions))"
   ]
  },
  {
   "cell_type": "markdown",
   "metadata": {},
   "source": [
    "### ROC Curve"
   ]
  },
  {
   "cell_type": "code",
   "execution_count": 102,
   "metadata": {
    "scrolled": true
   },
   "outputs": [
    {
     "data": {
      "text/plain": [
       "<matplotlib.legend.Legend at 0x20391cd2be0>"
      ]
     },
     "execution_count": 102,
     "metadata": {},
     "output_type": "execute_result"
    },
    {
     "data": {
      "image/png": "[encoded data removed]",
      "text/plain": [
       "<Figure size 720x360 with 1 Axes>"
      ]
     },
     "metadata": {},
     "output_type": "display_data"
    }
   ],
   "source": [
    "logit_roc_auc = roc_auc_score(kickstart_output_test, model_tuned.predict(kickstart_features_test))\n",
    "false_pos_rate, true_pos_rate, thresholds = roc_curve(kickstart_output_test,\\\n",
    "                                                      model_tuned.predict_proba(kickstart_features_test)[:,1])\n",
    "roc_auc = auc(false_pos_rate, true_pos_rate)\n",
    "\n",
    "plt.figure(figsize = (10, 5))\n",
    "plt.plot(false_pos_rate, true_pos_rate, label = \"AUC (area = %0.2f)\" % logit_roc_auc)\n",
    "plt.plot([0, 1], [0, 1], \"r--\")\n",
    "plt.xlim([0.0, 1.0])\n",
    "plt.ylim([0.0, 1.05])\n",
    "plt.xlabel(\"False Positive Rate\")\n",
    "plt.ylabel(\"True Positive Rate\")\n",
    "plt.title(\"Logistic Regression ROC\")\n",
    "plt.legend(loc = \"lower right\")\n",
    "# plt.savefig(\"Log_ROC\")\n"
   ]
  },
  {
   "cell_type": "code",
   "execution_count": 180,
   "metadata": {},
   "outputs": [],
   "source": [
    "# Preparing the cross-validation folds\n",
    "\n",
    "k_fold = StratifiedKFold(n_splits = 10, shuffle=False, random_state = 0)\n",
    "\n",
    "k_fold = k_fold.get_n_splits(kickstart_features_train, kickstart_output_train)"
   ]
  },
  {
   "cell_type": "markdown",
   "metadata": {},
   "source": [
    "## K Nearest Neighbors"
   ]
  },
  {
   "cell_type": "code",
   "execution_count": 151,
   "metadata": {},
   "outputs": [],
   "source": [
    "# # Instantiating and pickling the model\n",
    "\n",
    "# knn_model = neighbors.KNeighborsClassifier(n_neighbors = 36, weights = \"uniform\", p = 2)\n",
    "\n",
    "# knn_model.fit(kickstart_features_train, kickstart_output_train)\n",
    "\n",
    "\n",
    "# knn_model_pickle_out = open(\"knn_model.pickle\", \"wb\")\n",
    "# pickle.dump(knn_model, knn_model_pickle_out)\n",
    "# knn_model_pickle_out.close()"
   ]
  },
  {
   "cell_type": "code",
   "execution_count": 150,
   "metadata": {},
   "outputs": [],
   "source": [
    "# Loading the pickle file\n",
    "\n",
    "knn_model_pickle_in = open(\"knn_model.pickle\", \"rb\")\n",
    "knn_model = pickle.load(knn_model_pickle_in)\n",
    "\n",
    "knn_model_pickle_in.close()"
   ]
  },
  {
   "cell_type": "code",
   "execution_count": 155,
   "metadata": {},
   "outputs": [],
   "source": [
    "# Setting up a grid search for the k and weights parameters\n",
    "\n",
    "k_range = list(range(30, 40))\n",
    "\n",
    "weight_options = [\"uniform\", \"distance\"]"
   ]
  },
  {
   "cell_type": "markdown",
   "metadata": {},
   "source": [
    "Regarding the weights parameter, the default option is \"uniform\" (i.e. all points in the neighborhood are weighted equally). Another option is \"distance\", which weights closer neighbors more heavily than neighbors located further away."
   ]
  },
  {
   "cell_type": "code",
   "execution_count": 156,
   "metadata": {},
   "outputs": [],
   "source": [
    "knn_parameter_grid = dict(n_neighbors = k_range, weights = weight_options)\n",
    "# print(knn_parameter_grid)"
   ]
  },
  {
   "cell_type": "code",
   "execution_count": 185,
   "metadata": {},
   "outputs": [],
   "source": [
    "# # Implementing the kNN grid search + pickling:\n",
    "\n",
    "# knn_grid = GridSearchCV(knn_model, knn_parameter_grid, cv=3, scoring = \"accuracy\", n_jobs = -1, verbose = 5)\n",
    "# knn_grid.fit(kickstart_features_train.head(40000), kickstart_output_train.head(40000))\n",
    "\n",
    "# knn_grid_pickle_out = open(\"knn_grid.pickle\", \"wb\")\n",
    "# pickle.dump(knn_grid, knn_grid_pickle_out)\n",
    "# knn_grid_pickle_out.close()"
   ]
  },
  {
   "cell_type": "markdown",
   "metadata": {},
   "source": [
    "*Due to computational complexity, the knn search grid was executed using only a 40 k sample of the data.*"
   ]
  },
  {
   "cell_type": "code",
   "execution_count": 162,
   "metadata": {},
   "outputs": [],
   "source": [
    "knn_grid_pickle_in = open(\"knn_grid.pickle\", \"rb\")\n",
    "knn_grid = pickle.load(knn_grid_pickle_in)\n",
    "\n",
    "knn_grid_pickle_in.close()"
   ]
  },
  {
   "cell_type": "code",
   "execution_count": 163,
   "metadata": {},
   "outputs": [
    {
     "name": "stdout",
     "output_type": "stream",
     "text": [
      "Best score: 0.66125\n",
      "{'n_neighbors': 34, 'weights': 'uniform'}\n",
      "KNeighborsClassifier(algorithm='auto', leaf_size=30, metric='minkowski',\n",
      "                     metric_params=None, n_jobs=None, n_neighbors=34, p=2,\n",
      "                     weights='uniform')\n"
     ]
    }
   ],
   "source": [
    "# Single best score achieved across all parameters\n",
    "print(\"Best score:\", knn_grid.best_score_)\n",
    "\n",
    "# Dictionary with all (k) parameters used to generate that score\n",
    "print(knn_grid.best_params_)\n",
    "\n",
    "# Actual model fitted with the best parameters\n",
    "print(knn_grid.best_estimator_)"
   ]
  },
  {
   "cell_type": "markdown",
   "metadata": {},
   "source": [
    "#### Visualizing the accuracy per each k value we searched for"
   ]
  },
  {
   "cell_type": "code",
   "execution_count": 167,
   "metadata": {},
   "outputs": [],
   "source": [
    "# # Preparing the values for the chart\n",
    "\n",
    "# k_range = range(30, 40)\n",
    "\n",
    "# k_scores = []\n",
    "\n",
    "# # Looping through values of k\n",
    "# for k in k_range:\n",
    "#     knn = neighbors.KNeighborsClassifier(n_neighbors = k)\n",
    "# # obtaining cross_val_score for each k neighbour\n",
    "#     scores = cross_val_score(knn, kickstart_features_train, kickstart_output_train,\\\n",
    "#                              cv=3, scoring=\"accuracy\", verbose = 5, n_jobs = -1)\n",
    "# # appending the mean of scores for k neighbors to k_scores list\n",
    "#     k_scores.append(scores.mean())\n",
    "\n",
    "# # Pickling the K-scores:\n",
    "\n",
    "# k_scores_pickle_out = open(\"k_scores.pickle\", \"wb\")\n",
    "# pickle.dump(k_scores, k_scores_pickle_out)\n",
    "# k_scores_pickle_out.close()\n",
    "    \n",
    "# print(k_scores)"
   ]
  },
  {
   "cell_type": "code",
   "execution_count": 166,
   "metadata": {},
   "outputs": [],
   "source": [
    "k_scores_pickle_in = open(\"k_scores.pickle\", \"rb\")\n",
    "k_scores = pickle.load(k_scores_pickle_in)\n",
    "\n",
    "k_scores_pickle_in.close()\n"
   ]
  },
  {
   "cell_type": "code",
   "execution_count": 168,
   "metadata": {},
   "outputs": [
    {
     "name": "stdout",
     "output_type": "stream",
     "text": [
      "[0.6719365219241427, 0.6713686101918901, 0.6726694352261019, 0.6719403631394677, 0.6731759611957887, 0.6721782723507456, 0.6730838696530618, 0.6726387412846373, 0.6724507181323888, 0.6728037440028745]\n"
     ]
    }
   ],
   "source": [
    "print(k_scores)"
   ]
  },
  {
   "cell_type": "code",
   "execution_count": 169,
   "metadata": {},
   "outputs": [
    {
     "data": {
      "text/plain": [
       "Text(0.5, 1.0, 'k value accuracy variation')"
      ]
     },
     "execution_count": 169,
     "metadata": {},
     "output_type": "execute_result"
    },
    {
     "data": {
      "image/png": "[encoded data removed]",
      "text/plain": [
       "<Figure size 576x360 with 1 Axes>"
      ]
     },
     "metadata": {},
     "output_type": "display_data"
    }
   ],
   "source": [
    "# Plotting the values of k for kNN vs the cross-validated accuracy\n",
    "\n",
    "plt.figure(figsize = (8, 5))\n",
    "plt.plot(k_range, k_scores)\n",
    "plt.xlabel(\"Value of K for KNN\")\n",
    "plt.ylabel(\"Cross-validated accuracy\")\n",
    "plt.title(\"k value accuracy variation\")"
   ]
  },
  {
   "cell_type": "markdown",
   "metadata": {},
   "source": [
    "Based on the chart above, the accuracy peaks at k = 34 out of all the values used in the grid search."
   ]
  },
  {
   "cell_type": "code",
   "execution_count": 170,
   "metadata": {},
   "outputs": [
    {
     "data": {
      "text/plain": [
       "KNeighborsClassifier(algorithm='auto', leaf_size=30, metric='minkowski',\n",
       "                     metric_params=None, n_jobs=None, n_neighbors=34, p=2,\n",
       "                     weights='uniform')"
      ]
     },
     "execution_count": 170,
     "metadata": {},
     "output_type": "execute_result"
    }
   ],
   "source": [
    "tuned_knn = knn_grid.best_estimator_\n",
    "tuned_knn"
   ]
  },
  {
   "cell_type": "code",
   "execution_count": 171,
   "metadata": {},
   "outputs": [
    {
     "name": "stdout",
     "output_type": "stream",
     "text": [
      "kNN Accuracy Score - Train Data: 67.04284694668499 %\n"
     ]
    }
   ],
   "source": [
    "prediction_on_train_data = tuned_knn.predict(kickstart_features_train)\n",
    "print(\"kNN Accuracy Score - Train Data:\", metrics.accuracy_score(kickstart_output_train, prediction_on_train_data)* 100,\"%\")"
   ]
  },
  {
   "cell_type": "code",
   "execution_count": 172,
   "metadata": {},
   "outputs": [
    {
     "name": "stdout",
     "output_type": "stream",
     "text": [
      "kNN Accuracy Score - Test Data: 66.77142371090638 %\n"
     ]
    }
   ],
   "source": [
    "predicted_output = tuned_knn.predict(kickstart_features_test)\n",
    "knn_accuracy = metrics.accuracy_score(kickstart_output_test, predicted_output)\n",
    "print(\"kNN Accuracy Score - Test Data:\", metrics.accuracy_score(kickstart_output_test, predicted_output)* 100,\"%\")"
   ]
  },
  {
   "cell_type": "code",
   "execution_count": 173,
   "metadata": {},
   "outputs": [],
   "source": [
    "# Predict\n",
    "tuned_knn_y_pred = tuned_knn.predict(kickstart_features_test)\n",
    "\n",
    "# Calculate the F1 score\n",
    "tuned_knn_f1_score = f1_score(tuned_knn_y_pred, kickstart_output_test)"
   ]
  },
  {
   "cell_type": "code",
   "execution_count": 174,
   "metadata": {},
   "outputs": [
    {
     "name": "stdout",
     "output_type": "stream",
     "text": [
      "kNN F1 Score: 43.04 %\n"
     ]
    }
   ],
   "source": [
    "print(\"kNN F1 Score: {:.2f}\".format(tuned_knn_f1_score * 100), \"%\")"
   ]
  },
  {
   "cell_type": "markdown",
   "metadata": {},
   "source": [
    "### kNN Confusion Matrix & Classification Report"
   ]
  },
  {
   "cell_type": "code",
   "execution_count": 175,
   "metadata": {},
   "outputs": [],
   "source": [
    "knn_predicted = tuned_knn.predict(kickstart_features_test)"
   ]
  },
  {
   "cell_type": "code",
   "execution_count": 176,
   "metadata": {},
   "outputs": [
    {
     "name": "stdout",
     "output_type": "stream",
     "text": [
      "              precision    recall  f1-score   support\n",
      "\n",
      "           0       0.70      0.85      0.77     71495\n",
      "           1       0.56      0.35      0.43     40192\n",
      "\n",
      "    accuracy                           0.67    111687\n",
      "   macro avg       0.63      0.60      0.60    111687\n",
      "weighted avg       0.65      0.67      0.64    111687\n",
      "\n"
     ]
    }
   ],
   "source": [
    "print(classification_report(kickstart_output_test, knn_predicted))"
   ]
  },
  {
   "cell_type": "code",
   "execution_count": 177,
   "metadata": {},
   "outputs": [],
   "source": [
    "conf_matrix = confusion_matrix(kickstart_output_test, knn_predicted, [0, 1])"
   ]
  },
  {
   "cell_type": "code",
   "execution_count": 178,
   "metadata": {},
   "outputs": [
    {
     "name": "stdout",
     "output_type": "stream",
     "text": [
      "[[60554 10941]\n",
      " [26171 14021]]\n",
      "Total accuracy: 0.66771\n",
      "Class1 accuracy: 0.84697\n",
      "Class2 accuracy: 0.34885\n",
      "Geometric mean accuracy: 0.54357\n"
     ]
    }
   ],
   "source": [
    "total_accuracy = (conf_matrix[0, 0] + conf_matrix[1, 1]) / float(np.sum(conf_matrix))\n",
    "class1_accuracy = (conf_matrix[0, 0] / float(np.sum(conf_matrix[0, :])))\n",
    "class2_accuracy = (conf_matrix[1, 1] / float(np.sum(conf_matrix[1, :])))\n",
    "print(conf_matrix)\n",
    "print(\"Total accuracy: %.5f\" % total_accuracy)\n",
    "print(\"Class1 accuracy: %.5f\" % class1_accuracy)\n",
    "print(\"Class2 accuracy: %.5f\" % class2_accuracy)\n",
    "print(\"Geometric mean accuracy: %.5f\" % math.sqrt((class1_accuracy * class2_accuracy)))"
   ]
  },
  {
   "cell_type": "code",
   "execution_count": 179,
   "metadata": {},
   "outputs": [
    {
     "data": {
      "text/plain": [
       "Text(0.5, 1.0, 'ROC Curve of kNN')"
      ]
     },
     "execution_count": 179,
     "metadata": {},
     "output_type": "execute_result"
    },
    {
     "data": {
      "image/png": "[encoded data removed]",
      "text/plain": [
       "<Figure size 864x504 with 1 Axes>"
      ]
     },
     "metadata": {},
     "output_type": "display_data"
    }
   ],
   "source": [
    "y_scores = tuned_knn.predict_proba(kickstart_features_test)\n",
    "false_pos_rate, true_pos_rate, threshold = roc_curve(kickstart_output_test, y_scores[:, 1])\n",
    "roc_auc = auc(false_pos_rate, true_pos_rate)\n",
    "\n",
    "plt.figure(figsize = (12, 7))\n",
    "plt.plot(false_pos_rate, true_pos_rate, \"b\", label = \"AUC = %0.2f\" % roc_auc)\n",
    "plt.legend(loc = \"lower right\")\n",
    "plt.plot([0, 1], [0, 1], \"r--\")\n",
    "plt.xlim([0, 1])\n",
    "plt.ylim([0, 1])\n",
    "plt.ylabel(\"True Positive Rate\")\n",
    "plt.xlabel(\"False Positive Rate\")\n",
    "plt.title(\"ROC Curve of kNN\")\n",
    "# plt.savefig(\"kNN_ROC\")"
   ]
  },
  {
   "cell_type": "markdown",
   "metadata": {},
   "source": [
    "## Decision Tree Classifier"
   ]
  },
  {
   "cell_type": "code",
   "execution_count": 103,
   "metadata": {},
   "outputs": [
    {
     "name": "stdout",
     "output_type": "stream",
     "text": [
      "Decision Tree F1 score: 43.16 %\n"
     ]
    }
   ],
   "source": [
    "dtree_clf = DecisionTreeClassifier(random_state = 0)\n",
    "\n",
    "dtree_clf.fit(kickstart_features_train, kickstart_output_train)\n",
    "\n",
    "# Predict\n",
    "tree_y_pred = dtree_clf.predict(kickstart_features_test)\n",
    "\n",
    "# Calculate the F1 score\n",
    "tree_score = f1_score(tree_y_pred, kickstart_output_test)\n",
    "\n",
    "print(\"Decision Tree F1 score: {:.2f}\".format(tree_score * 100),\"%\")"
   ]
  },
  {
   "cell_type": "code",
   "execution_count": 106,
   "metadata": {},
   "outputs": [],
   "source": [
    "# # Optimizing parameters through GridSearch:\n",
    "\n",
    "# tree_param_grid = {\"criterion\":[\"gini\",\"entropy\"], \"max_depth\":list(range(2, 21))}\n",
    "\n",
    "# # Instantiating and fitting\n",
    "# tree_grid = GridSearchCV(dtree_clf, tree_param_grid, cv=10, scoring = \"f1\", n_jobs = -1)\n",
    "# tree_grid.fit(kickstart_features_train, kickstart_output_train)\n",
    "\n",
    "# # Pickling the decision tree search grid:\n",
    "\n",
    "# tree_grid_pickle_out = open(\"tree_grid.pickle\", \"wb\")\n",
    "# pickle.dump(tree_grid, tree_grid_pickle_out)\n",
    "# tree_grid_pickle_out.close()\n",
    "    "
   ]
  },
  {
   "cell_type": "code",
   "execution_count": 105,
   "metadata": {},
   "outputs": [],
   "source": [
    "tree_grid_pickle_in = open(\"tree_grid.pickle\", \"rb\")\n",
    "tree_grid = pickle.load(tree_grid_pickle_in)\n",
    "\n",
    "tree_grid_pickle_in.close()"
   ]
  },
  {
   "cell_type": "code",
   "execution_count": 107,
   "metadata": {},
   "outputs": [
    {
     "name": "stdout",
     "output_type": "stream",
     "text": [
      "0.4524362377351535\n",
      "{'criterion': 'gini', 'max_depth': 17}\n",
      "DecisionTreeClassifier(class_weight=None, criterion='gini', max_depth=17,\n",
      "                       max_features=None, max_leaf_nodes=None,\n",
      "                       min_impurity_decrease=0.0, min_impurity_split=None,\n",
      "                       min_samples_leaf=1, min_samples_split=2,\n",
      "                       min_weight_fraction_leaf=0.0, presort=False,\n",
      "                       random_state=0, splitter='best')\n"
     ]
    }
   ],
   "source": [
    "# The best score achieved across all parameters:\n",
    "print(tree_grid.best_score_)\n",
    "\n",
    "# Parameters used to generate that score:\n",
    "print(tree_grid.best_params_)\n",
    "\n",
    "# Actual model fitted with the best parameters:\n",
    "print(tree_grid.best_estimator_)"
   ]
  },
  {
   "cell_type": "code",
   "execution_count": 110,
   "metadata": {},
   "outputs": [],
   "source": [
    "# # Tuned model \n",
    "# tuned_dtree = tree_grid.best_estimator_\n",
    "\n",
    "# tuned_dtree.fit(kickstart_features_train, kickstart_output_train)\n",
    "\n",
    "# # Pickling the tuned model\n",
    "\n",
    "# tuned_dtree_pickle_out = open(\"tuned_dtree.pickle\", \"wb\")\n",
    "# pickle.dump(tuned_dtree, tuned_dtree_pickle_out)\n",
    "# tuned_dtree_pickle_out.close()\n"
   ]
  },
  {
   "cell_type": "code",
   "execution_count": 109,
   "metadata": {},
   "outputs": [],
   "source": [
    "tuned_dtree_pickle_in = open(\"tuned_dtree.pickle\", \"rb\")\n",
    "tuned_dtree = pickle.load(tuned_dtree_pickle_in)\n",
    "\n",
    "tuned_dtree_pickle_in.close()"
   ]
  },
  {
   "cell_type": "code",
   "execution_count": 125,
   "metadata": {},
   "outputs": [
    {
     "name": "stdout",
     "output_type": "stream",
     "text": [
      "Tuned Decision Tree Accuracy: 67.30 %\n",
      "Tuned Decision Tree F1 score: 45.02 %\n"
     ]
    }
   ],
   "source": [
    "# Predict\n",
    "tuned_tree_y_pred = tuned_dtree.predict(kickstart_features_test)\n",
    "\n",
    "# Accuracy score\n",
    "tuned_tree_accuracy = metrics.accuracy_score(kickstart_output_test, tuned_tree_y_pred)\n",
    "print(\"Tuned Decision Tree Accuracy: {:.2f}\".format(tuned_tree_accuracy * 100),\"%\")\n",
    "\n",
    "# Calculate the F1 score\n",
    "tuned_dtree_score = f1_score(tuned_tree_y_pred, kickstart_output_test)\n",
    "\n",
    "print(\"Tuned Decision Tree F1 score: {:.2f}\".format(tuned_dtree_score * 100),\"%\")"
   ]
  },
  {
   "cell_type": "markdown",
   "metadata": {},
   "source": [
    "### Decision Tree Confusion Matrix & Classification Report"
   ]
  },
  {
   "cell_type": "code",
   "execution_count": 126,
   "metadata": {},
   "outputs": [
    {
     "data": {
      "text/plain": [
       "array([[60214, 11281],\n",
       "       [25240, 14952]], dtype=int64)"
      ]
     },
     "execution_count": 126,
     "metadata": {},
     "output_type": "execute_result"
    }
   ],
   "source": [
    "tree_confusion_matrix = confusion_matrix(kickstart_output_test, tuned_tree_y_pred, [0, 1])\n",
    "tree_confusion_matrix"
   ]
  },
  {
   "cell_type": "code",
   "execution_count": 127,
   "metadata": {},
   "outputs": [
    {
     "name": "stdout",
     "output_type": "stream",
     "text": [
      "              precision    recall  f1-score   support\n",
      "\n",
      "           0       0.70      0.84      0.77     71495\n",
      "           1       0.57      0.37      0.45     40192\n",
      "\n",
      "    accuracy                           0.67    111687\n",
      "   macro avg       0.64      0.61      0.61    111687\n",
      "weighted avg       0.66      0.67      0.65    111687\n",
      "\n"
     ]
    }
   ],
   "source": [
    "print(classification_report(kickstart_output_test, tuned_tree_y_pred))"
   ]
  },
  {
   "cell_type": "code",
   "execution_count": 128,
   "metadata": {},
   "outputs": [
    {
     "data": {
      "text/plain": [
       "<matplotlib.legend.Legend at 0x20391c04e10>"
      ]
     },
     "execution_count": 128,
     "metadata": {},
     "output_type": "execute_result"
    },
    {
     "data": {
      "image/png": "[encoded data removed]",
      "text/plain": [
       "<Figure size 864x504 with 1 Axes>"
      ]
     },
     "metadata": {},
     "output_type": "display_data"
    }
   ],
   "source": [
    "dtree_roc_auc = roc_auc_score(kickstart_output_test, tuned_dtree.predict(kickstart_features_test))\n",
    "false_pos_rate, true_pos_rate, thresholds = roc_curve(kickstart_output_test,\\\n",
    "                                                      tuned_dtree.predict_proba(kickstart_features_test)[:,1])\n",
    "\n",
    "roc_auc = auc(false_pos_rate, true_pos_rate)\n",
    "plt.figure(figsize = (12, 7))\n",
    "plt.plot(false_pos_rate, true_pos_rate, label = \"AUC (area = %0.2f)\" % dtree_roc_auc)\n",
    "plt.plot([0, 1], [0, 1], \"r--\")\n",
    "plt.xlim([0.0, 1.0])\n",
    "plt.ylim([0.0, 1.05])\n",
    "plt.xlabel(\"False Positive Rate\")\n",
    "plt.ylabel(\"True Positive Rate\")\n",
    "plt.title(\"Decision Tree ROC\")\n",
    "plt.legend(loc = \"lower right\")\n",
    "# plt.savefig(\"DTree_ROC\")\n"
   ]
  },
  {
   "cell_type": "markdown",
   "metadata": {},
   "source": [
    "## Random Forest Classifier"
   ]
  },
  {
   "cell_type": "markdown",
   "metadata": {},
   "source": [
    "**Random Forests comapred to Decision Trees:**\n",
    "- Random forests are a set of multiple decision trees;\n",
    "- Deep decision trees may suffer from overfitting, but random forests prevent overfitting by creating trees on random subsets;\n",
    "- Decision trees are computationally faster;\n",
    "- Random forests are difficult to interpret, while a decision tree is easily interpretable and can be converted to rules."
   ]
  },
  {
   "cell_type": "code",
   "execution_count": 129,
   "metadata": {},
   "outputs": [],
   "source": [
    "forest_clf = RandomForestClassifier(n_estimators = 100, random_state = 0)\n",
    "\n",
    "forest_clf.fit(kickstart_features_train, kickstart_output_train)\n",
    "\n",
    "forest_y_pred = forest_clf.predict(kickstart_features_test)"
   ]
  },
  {
   "cell_type": "code",
   "execution_count": 130,
   "metadata": {},
   "outputs": [
    {
     "name": "stdout",
     "output_type": "stream",
     "text": [
      "Random Forest Accuracy: 65.57 %\n"
     ]
    }
   ],
   "source": [
    "print(\"Random Forest Accuracy: {:.2f}\".format(metrics.accuracy_score(kickstart_output_test, forest_y_pred) * 100), \"%\")"
   ]
  },
  {
   "cell_type": "code",
   "execution_count": 131,
   "metadata": {},
   "outputs": [
    {
     "name": "stdout",
     "output_type": "stream",
     "text": [
      "Random Forest F1 Score: 45.34 %\n"
     ]
    }
   ],
   "source": [
    "forest_f1_score = f1_score(forest_y_pred, kickstart_output_test)\n",
    "print(\"Random Forest F1 Score: {:.2f}\".format((forest_f1_score) * 100), \"%\")"
   ]
  },
  {
   "cell_type": "code",
   "execution_count": 134,
   "metadata": {},
   "outputs": [],
   "source": [
    "# # Implementing the gridsearch\n",
    "\n",
    "# forest_params = {\"n_estimators\": [100, 200, 300],\n",
    "#                 \"max_depth\": [20, 50, 100]}\n",
    "\n",
    "# rfc = RandomForestClassifier()\n",
    "# forest_grid = GridSearchCV(rfc, forest_params, scoring = \"f1\", cv = 10, n_jobs = -1)\n",
    "# forest_grid.fit(kickstart_features_train, kickstart_output_train)\n",
    "\n",
    "# # Pickling the random forest search grid result:\n",
    "\n",
    "# forest_grid_pickle_out = open(\"forest_grid.pickle\", \"wb\")\n",
    "# pickle.dump(forest_grid, forest_grid_pickle_out, pickle.HIGHEST_PROTOCOL)\n",
    "# forest_grid_pickle_out.close()\n"
   ]
  },
  {
   "cell_type": "code",
   "execution_count": 133,
   "metadata": {},
   "outputs": [],
   "source": [
    "forest_grid_pickle_in = open(\"forest_grid.pickle\", \"rb\")\n",
    "forest_grid = pickle.load(forest_grid_pickle_in)\n",
    "\n",
    "forest_grid_pickle_in.close()"
   ]
  },
  {
   "cell_type": "code",
   "execution_count": 135,
   "metadata": {},
   "outputs": [
    {
     "name": "stdout",
     "output_type": "stream",
     "text": [
      "Random forest; best score: 0.4507672684385366\n",
      "{'max_depth': 50, 'n_estimators': 300}\n",
      "RandomForestClassifier(bootstrap=True, class_weight=None, criterion='gini',\n",
      "                       max_depth=50, max_features='auto', max_leaf_nodes=None,\n",
      "                       min_impurity_decrease=0.0, min_impurity_split=None,\n",
      "                       min_samples_leaf=1, min_samples_split=2,\n",
      "                       min_weight_fraction_leaf=0.0, n_estimators=300,\n",
      "                       n_jobs=None, oob_score=False, random_state=None,\n",
      "                       verbose=0, warm_start=False)\n"
     ]
    }
   ],
   "source": [
    "# Single best score achieved across all parameters\n",
    "print(\"Random forest; best score:\", forest_grid.best_score_)\n",
    "\n",
    "# Dictionary with all (k) parameters used to generate that score\n",
    "print(forest_grid.best_params_)\n",
    "\n",
    "# Actual model fitted with the best parameters\n",
    "print(forest_grid.best_estimator_)"
   ]
  },
  {
   "cell_type": "code",
   "execution_count": 138,
   "metadata": {},
   "outputs": [],
   "source": [
    "# # Tuned model\n",
    "# tuned_forest = forest_grid.best_estimator_\n",
    "\n",
    "# tuned_forest.fit(kickstart_features_train, kickstart_output_train)\n",
    "\n",
    "# # Pickling the tuned model\n",
    "\n",
    "# tuned_forest_pickle_out = open(\"tuned_forest.pickle\", \"wb\")\n",
    "# pickle.dump(tuned_forest, tuned_forest_pickle_out, pickle.HIGHEST_PROTOCOL)\n",
    "# tuned_forest_pickle_out.close()\n"
   ]
  },
  {
   "cell_type": "markdown",
   "metadata": {},
   "source": [
    "### ! Please note - the pickled Random Forest search grid and model have been uploaded [here](https://drive.google.com/file/d/1gnIlt_Dhw-TsU4rt_i9MOIaN6-2u4iXZ/view?usp=sharing)."
   ]
  },
  {
   "cell_type": "code",
   "execution_count": 137,
   "metadata": {},
   "outputs": [],
   "source": [
    "tuned_forest_pickle_in = open(\"tuned_forest.pickle\", \"rb\")\n",
    "tuned_forest = pickle.load(tuned_forest_pickle_in)\n",
    "\n",
    "tuned_forest_pickle_in.close()"
   ]
  },
  {
   "cell_type": "code",
   "execution_count": 139,
   "metadata": {},
   "outputs": [
    {
     "name": "stdout",
     "output_type": "stream",
     "text": [
      "Tuned Random Forest Accuracy: 65.61 %\n",
      "Tuned Random Forest F1 score: 45.37 %\n"
     ]
    }
   ],
   "source": [
    "# Predict\n",
    "tuned_forest_y_pred = tuned_forest.predict(kickstart_features_test)\n",
    "\n",
    "tuned_forest_accuracy = metrics.accuracy_score(kickstart_output_test, tuned_forest_y_pred)\n",
    "print(\"Tuned Random Forest Accuracy: {:.2f}\".format(metrics.accuracy_score(kickstart_output_test, tuned_forest_y_pred) * 100), \"%\")\n",
    "\n",
    "# Calculate the F1 score\n",
    "tuned_forest_f1_score = f1_score(tuned_forest_y_pred, kickstart_output_test)\n",
    "\n",
    "print(\"Tuned Random Forest F1 score: {:.2f}\".format(tuned_forest_f1_score * 100),\"%\")"
   ]
  },
  {
   "cell_type": "markdown",
   "metadata": {},
   "source": [
    "### Random Forest Confusion Matrix & Classification Report"
   ]
  },
  {
   "cell_type": "code",
   "execution_count": 140,
   "metadata": {},
   "outputs": [
    {
     "data": {
      "text/plain": [
       "array([[57334, 14161],\n",
       "       [24243, 15949]], dtype=int64)"
      ]
     },
     "execution_count": 140,
     "metadata": {},
     "output_type": "execute_result"
    }
   ],
   "source": [
    "forest_confusion_matrix = confusion_matrix(kickstart_output_test, tuned_forest_y_pred, [0, 1])\n",
    "forest_confusion_matrix"
   ]
  },
  {
   "cell_type": "code",
   "execution_count": 141,
   "metadata": {
    "scrolled": true
   },
   "outputs": [
    {
     "name": "stdout",
     "output_type": "stream",
     "text": [
      "              precision    recall  f1-score   support\n",
      "\n",
      "           0       0.70      0.80      0.75     71495\n",
      "           1       0.53      0.40      0.45     40192\n",
      "\n",
      "    accuracy                           0.66    111687\n",
      "   macro avg       0.62      0.60      0.60    111687\n",
      "weighted avg       0.64      0.66      0.64    111687\n",
      "\n"
     ]
    }
   ],
   "source": [
    "print(classification_report(kickstart_output_test, tuned_forest_y_pred))"
   ]
  },
  {
   "cell_type": "code",
   "execution_count": 142,
   "metadata": {},
   "outputs": [
    {
     "data": {
      "text/plain": [
       "<matplotlib.legend.Legend at 0x20391a86320>"
      ]
     },
     "execution_count": 142,
     "metadata": {},
     "output_type": "execute_result"
    },
    {
     "data": {
      "image/png": "[encoded data removed]",
      "text/plain": [
       "<Figure size 864x504 with 1 Axes>"
      ]
     },
     "metadata": {},
     "output_type": "display_data"
    }
   ],
   "source": [
    "tuned_forest_roc_auc = roc_auc_score(kickstart_output_test, tuned_forest.predict(kickstart_features_test))\n",
    "false_pos_rate, true_pos_rate, thresholds = roc_curve(kickstart_output_test,\\\n",
    "                                                      tuned_forest.predict_proba(kickstart_features_test)[:,1])\n",
    "roc_auc = auc(false_pos_rate, true_pos_rate)\n",
    "\n",
    "plt.figure(figsize = (12, 7))\n",
    "plt.plot(false_pos_rate, true_pos_rate, label = \"AUC (area = %0.2f)\" % dtree_roc_auc)\n",
    "plt.plot([0, 1], [0, 1], \"r--\")\n",
    "plt.xlim([0.0, 1.0])\n",
    "plt.ylim([0.0, 1.05])\n",
    "plt.xlabel(\"False Positive Rate\")\n",
    "plt.ylabel(\"True Positive Rate\")\n",
    "plt.title(\"Random Forest ROC\")\n",
    "plt.legend(loc = \"lower right\")\n",
    "# plt.savefig(\"Random Forest ROC\")\n"
   ]
  },
  {
   "cell_type": "markdown",
   "metadata": {},
   "source": [
    "### Comparing Scores"
   ]
  },
  {
   "cell_type": "code",
   "execution_count": 181,
   "metadata": {},
   "outputs": [
    {
     "name": "stdout",
     "output_type": "stream",
     "text": [
      "Accuracy scores at a glance:\n",
      "Logistic Regression: 65.98 %\n",
      "kNN: 66.77 %\n",
      "Decision tree: 67.30 %\n",
      "Random forest: 65.61 %\n"
     ]
    }
   ],
   "source": [
    "print(\"Accuracy scores at a glance:\")\n",
    "\n",
    "print(\"Logistic Regression: {:.2f}\".format(accuracy_score * 100), \"%\")\n",
    "print(\"kNN: {:.2f}\".format(knn_accuracy * 100), \"%\")\n",
    "print(\"Decision tree: {:.2f}\".format(tuned_tree_accuracy * 100), \"%\")\n",
    "print(\"Random forest: {:.2f}\".format(tuned_forest_accuracy * 100), \"%\")"
   ]
  },
  {
   "cell_type": "code",
   "execution_count": 182,
   "metadata": {},
   "outputs": [
    {
     "name": "stdout",
     "output_type": "stream",
     "text": [
      "The model with the highest accuracy score is: Decision tree\n"
     ]
    }
   ],
   "source": [
    "# Compare accuracy across all models\n",
    "\n",
    "modelsDict = {\"Logistic Regression\": accuracy_score, \"kNN\": knn_accuracy, \"Decision tree\": tuned_tree_accuracy, \"Random forest\": tuned_forest_accuracy}\n",
    "best_classifier_acc = max(modelsDict, key=modelsDict.get)\n",
    "print(\"The model with the highest accuracy score is:\", best_classifier_acc)"
   ]
  },
  {
   "cell_type": "code",
   "execution_count": 183,
   "metadata": {},
   "outputs": [
    {
     "name": "stdout",
     "output_type": "stream",
     "text": [
      "F1 testing scores at a glance:\n",
      "Logistic Regression: 33.97 %\n",
      "kNN: 43.04 %\n",
      "Decision tree: 45.02 %\n",
      "Random forest: 45.37 %\n"
     ]
    }
   ],
   "source": [
    "print(\"F1 testing scores at a glance:\")\n",
    "\n",
    "print(\"Logistic Regression: {:.2f}\".format(tuned_f1 * 100), \"%\")\n",
    "print(\"kNN: {:.2f}\".format(tuned_knn_f1_score * 100), \"%\")\n",
    "print(\"Decision tree: {:.2f}\".format(tuned_dtree_score * 100), \"%\")\n",
    "print(\"Random forest: {:.2f}\".format(tuned_forest_f1_score * 100), \"%\")\n"
   ]
  },
  {
   "cell_type": "code",
   "execution_count": 184,
   "metadata": {},
   "outputs": [
    {
     "name": "stdout",
     "output_type": "stream",
     "text": [
      "The model with the highest F1 score is: Random forest\n"
     ]
    }
   ],
   "source": [
    "# Compare F1 across all models\n",
    "\n",
    "modelsDict = {\"Logistic Regression\": tuned_f1, \"kNN\": tuned_knn_f1_score, \"Decision tree\": tuned_dtree_score, \"Random forest\": tuned_forest_f1_score}\n",
    "best_classifier_f1 = max(modelsDict, key=modelsDict.get)\n",
    "print(\"The model with the highest F1 score is:\", best_classifier_f1)"
   ]
  },
  {
   "cell_type": "markdown",
   "metadata": {},
   "source": [
    "### Conclusion"
   ]
  },
  {
   "cell_type": "markdown",
   "metadata": {},
   "source": [
    " To sumarize the findings of the present research, despite trying out multiple models and hypertuning parameters, all of them were underfitted and produced poor scores, unable to accurately capture the relationships between the dataset’s features and target variable.<br>\n",
    "In terms of accuracy, the best score was 67.30% for the decision tree model; however, a better evaluation metric would be the F1 score. The best F1 score belonged to the Random Forest model, but it only amounted to 45.37%.<br>It can be concluded that the algorithms suffer from high bias and are too simple to establish a stable learning pattern. The underfitting may have ocurred because the explanatory features are insufficient for the models to detect the underlying trends of the data. Typically, such models could benefit from increasing the size or number of parameters, or increasing the complexity of the model.<br>\n",
    "Moreover, external factors influencing success may exist which are not part of the current dataset. Future improvements could be explored with additional attributes - if and when they are made available."
   ]
  },
  {
   "cell_type": "markdown",
   "metadata": {},
   "source": [
    "### References\n",
    "- Success Prediction on Crowdfunding with Multimodal Deep Learning - Chaoran Cheng, Fei Tan, Xiurui Hou and Zhi Wei; Department of Computer Science, New Jersey Institute of Technology, USA\n",
    "- KickPredict: Predicting Kickstarter Success - Kevin Chen, Brock Jones, Isaac Kim, Brooklyn Schlamp; Dept. of Computing and Mathematical Sciences, California Institute of Technology\n",
    "- Launch Hard or Go Home! Predicting the Success of Kickstarter Campaigns - Vincent Etter, Matthias Grossglauser, Patrick Thiran; School of Computer and Communication Sciences, École Polytechnique Fédérale de Lausanne (EPFL), Lausanne, Switzerland\n",
    "- [The elements of a successful crowdfunding campaign: A systematic literature review of crowdfunding performance](https://www.academia.edu/34482768/The_elements_of_a_successful_crowdfunding_campaign_A_systematic_literature_review_of_crowdfunding_performance)\n",
    "- Predicting Kickstarter Campaign Success - Rachel Downs, Muhammad Ghauri\n",
    "- https://www.alleywatch.com/2013/07/kickstarter-statistics-dissected/\n",
    "- https://www.kicktraq.com/\n",
    "- [Understanding Random Forests Classifiers in Python](https://www.datacamp.com/community/tutorials/random-forests-classifier-python)"
   ]
  }
 ],
 "metadata": {
  "kernelspec": {
   "display_name": "Python 3",
   "language": "python",
   "name": "python3"
  },
  "language_info": {
   "codemirror_mode": {
    "name": "ipython",
    "version": 3
   },
   "file_extension": ".py",
   "mimetype": "text/x-python",
   "name": "python",
   "nbconvert_exporter": "python",
   "pygments_lexer": "ipython3",
   "version": "3.7.1"
  }
 },
 "nbformat": 4,
 "nbformat_minor": 2
}
